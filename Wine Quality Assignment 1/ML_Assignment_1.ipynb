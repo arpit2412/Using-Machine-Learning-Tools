{
 "cells": [
  {
   "cell_type": "markdown",
   "metadata": {},
   "source": [
    "<h2 align=\"center\">USING MACHINE LEARNING TOOLS 2020</h2>\n",
    "\n",
    "\n",
    "\n",
    "\n",
    "\n",
    "<b>Name: Arpit Garg\n",
    "\n",
    "\n",
    "ID: A1784072\n",
    "\n",
    "\n",
    "Assignment 1: Wine Quality</b>\n"
   ]
  },
  {
   "cell_type": "markdown",
   "metadata": {},
   "source": [
    "<h3 align = 'center'>GENERAL INSTRUCTIONS:</h3>\n",
    "\n",
    "\n",
    "Predicting Wine Quality using different models. \n",
    "\n",
    "The original source for this data is the UCI repository but we used modified version of this (hosted by MyUni). \n",
    "\n",
    "For each model error is calculated. \n",
    "\n",
    "The main goal of this assignment is to explore sklearn, pandas, matplotlib and other popular libraries.\n",
    "\n",
    "Some values can differ if we re-run the assignments.\n",
    "\n",
    "Different approaches are referred from internet."
   ]
  },
  {
   "cell_type": "markdown",
   "metadata": {},
   "source": [
    "<h3 align = 'center'>LIBRARIES INFORMATION:</h3>\n",
    "    \n",
    "Pandas: For data manipulation and analysis\n",
    "    \n",
    "Numpy: For handling arrays and matrices\n",
    "    \n",
    "Matplotlib: It provides an object-oriented API for embedding plots into applications using general-purpose GUI toolkits like Tkinter etc.\n",
    "\n",
    "Seaborn: For drawing attractive and informative statistical graphics\n",
    "\n",
    "Sklearn: Provides Simple and efficient tools for data analysis.\n",
    "    \n",
    "Math: For providing basic mathematical operations"
   ]
  },
  {
   "cell_type": "code",
   "execution_count": 121,
   "metadata": {},
   "outputs": [],
   "source": [
    "#importing all the required libraries \n",
    "import pandas as pd\n",
    "import numpy as np \n",
    "import matplotlib.pyplot as plt\n",
    "import seaborn as sns\n",
    "from math import sqrt"
   ]
  },
  {
   "cell_type": "markdown",
   "metadata": {},
   "source": [
    "\n",
    " <h3 align = 'center'>!!!!!!!! TASK 1 !!!!!!!!</h3>\n",
    "<h3 align = 'center'>Load and Pre-process the data set</h3>\n",
    "    "
   ]
  },
  {
   "cell_type": "markdown",
   "metadata": {},
   "source": [
    "Pandas: read_csv function will read the whole csv file\n",
    "\n",
    "'File name': File name with the location if required( if at different location)\n",
    "\n",
    "(Here: 'winedata.csv')\n",
    "        \n",
    "sep is the parameter which will define the separater(delimeter) used in file while reading the file \n",
    "\n",
    "(Here: ';')\n",
    "        \n",
    "error_bad_lines is the parameter and is of boolean type (True/False).\n",
    "Lines with too many fields (e.g. a csv line with too many commas) will by default cause an  exception to be raised, and no DataFrame will be returned. \n",
    "If False, then these “bad lines” will dropped from the DataFrame that is returned.\n",
    "\n",
    "(Here:False) "
   ]
  },
  {
   "cell_type": "code",
   "execution_count": 122,
   "metadata": {},
   "outputs": [
    {
     "name": "stderr",
     "output_type": "stream",
     "text": [
      "b'Skipping line 3149: expected 12 fields, saw 13\\nSkipping line 4821: expected 12 fields, saw 13\\n'\n"
     ]
    }
   ],
   "source": [
    "#inbuilt pandas library to read csv files and store it in dataframe df\n",
    "df = pd.read_csv('winedata.csv', sep=';', error_bad_lines=False)"
   ]
  },
  {
   "cell_type": "markdown",
   "metadata": {},
   "source": [
    "\n",
    "Pandas:info()\n",
    "\n",
    "This method prints information about a DataFrame including the index dtype and column dtypes, non-null values and memory usage."
   ]
  },
  {
   "cell_type": "code",
   "execution_count": 123,
   "metadata": {},
   "outputs": [
    {
     "name": "stdout",
     "output_type": "stream",
     "text": [
      "<class 'pandas.core.frame.DataFrame'>\n",
      "RangeIndex: 4896 entries, 0 to 4895\n",
      "Data columns (total 12 columns):\n",
      "fixed acidity           4891 non-null float64\n",
      "volatile acidity        4891 non-null object\n",
      "citric acid             4843 non-null object\n",
      "residual sugar          4886 non-null object\n",
      "chlorides               4890 non-null object\n",
      "free sulfur dioxide     4888 non-null object\n",
      "total sulfur dioxide    4889 non-null object\n",
      "density                 4890 non-null object\n",
      "pH                      4890 non-null object\n",
      "sulphates               4892 non-null object\n",
      "alcohol                 4890 non-null object\n",
      "quality                 4892 non-null object\n",
      "dtypes: float64(1), object(11)\n",
      "memory usage: 459.1+ KB\n"
     ]
    }
   ],
   "source": [
    "#displaying the information of the dataframe \n",
    "df.info()"
   ]
  },
  {
   "cell_type": "markdown",
   "metadata": {},
   "source": [
    "\n",
    "\n",
    "OBSERVATION:\n",
    "\n",
    "\n",
    "By observing the above information we can say that initally we have 12 Data columns and except of fixed_acidity every column is of object type and only fixed_acidity is of type float64 and approximately each column contains values betwen 4843 to 4892 and range index is 4896 entries with memory usage of 459.1+KB\n",
    "\n",
    "IMP: All the observations mentioned till now are before preprocessing of data."
   ]
  },
  {
   "cell_type": "markdown",
   "metadata": {},
   "source": [
    "\n",
    "\n",
    "-------------------------------------------------------------------------------------------------------------\n",
    "\n",
    "\n",
    "\n",
    "Pandas:describe()\n",
    "    \n",
    "Descriptive statistics include those that summarize the central tendency, dispersion and shape of a dataset’s distribution, excluding NaN values.\n",
    "\n"
   ]
  },
  {
   "cell_type": "code",
   "execution_count": 124,
   "metadata": {},
   "outputs": [
    {
     "data": {
      "text/html": [
       "<div>\n",
       "<style scoped>\n",
       "    .dataframe tbody tr th:only-of-type {\n",
       "        vertical-align: middle;\n",
       "    }\n",
       "\n",
       "    .dataframe tbody tr th {\n",
       "        vertical-align: top;\n",
       "    }\n",
       "\n",
       "    .dataframe thead th {\n",
       "        text-align: right;\n",
       "    }\n",
       "</style>\n",
       "<table border=\"1\" class=\"dataframe\">\n",
       "  <thead>\n",
       "    <tr style=\"text-align: right;\">\n",
       "      <th></th>\n",
       "      <th>fixed acidity</th>\n",
       "    </tr>\n",
       "  </thead>\n",
       "  <tbody>\n",
       "    <tr>\n",
       "      <td>count</td>\n",
       "      <td>4891.000000</td>\n",
       "    </tr>\n",
       "    <tr>\n",
       "      <td>mean</td>\n",
       "      <td>6.855030</td>\n",
       "    </tr>\n",
       "    <tr>\n",
       "      <td>std</td>\n",
       "      <td>0.844023</td>\n",
       "    </tr>\n",
       "    <tr>\n",
       "      <td>min</td>\n",
       "      <td>3.800000</td>\n",
       "    </tr>\n",
       "    <tr>\n",
       "      <td>25%</td>\n",
       "      <td>6.300000</td>\n",
       "    </tr>\n",
       "    <tr>\n",
       "      <td>50%</td>\n",
       "      <td>6.800000</td>\n",
       "    </tr>\n",
       "    <tr>\n",
       "      <td>75%</td>\n",
       "      <td>7.300000</td>\n",
       "    </tr>\n",
       "    <tr>\n",
       "      <td>max</td>\n",
       "      <td>14.200000</td>\n",
       "    </tr>\n",
       "  </tbody>\n",
       "</table>\n",
       "</div>"
      ],
      "text/plain": [
       "       fixed acidity\n",
       "count    4891.000000\n",
       "mean        6.855030\n",
       "std         0.844023\n",
       "min         3.800000\n",
       "25%         6.300000\n",
       "50%         6.800000\n",
       "75%         7.300000\n",
       "max        14.200000"
      ]
     },
     "execution_count": 124,
     "metadata": {},
     "output_type": "execute_result"
    }
   ],
   "source": [
    "#displaying stats of the dataframe\n",
    "df.describe()"
   ]
  },
  {
   "cell_type": "markdown",
   "metadata": {},
   "source": [
    "\n",
    "\n",
    "<b>OBSERVATION:</b>\n",
    "\n",
    "As from the output of info we can see that only fixed_acidity is of numerical type so describe can perform its stats operations on that column only so showing only results of that column. \n",
    "\n",
    "\n",
    "\n",
    "To display the results of all columns we first need to convert all the columns to numeric\n",
    "\n",
    "\n",
    "------------------------------------------------------------------------------------------------------------------\n",
    "\n",
    "\n",
    "\n",
    "To convert all the colums to numberic we will use:\n",
    "\n",
    "\n",
    "    \n",
    "Pandas:to_numeric()\n",
    "\n",
    "\n",
    "The default return dtype is float64 or int64 depending on the data supplied. Use the downcast parameter to obtain other dtypes.\n",
    "\n",
    "\n",
    "With parameter errors: If ‘coerce’ (Here), then invalid parsing will be set as NaN.\n"
   ]
  },
  {
   "cell_type": "code",
   "execution_count": 125,
   "metadata": {},
   "outputs": [],
   "source": [
    "#converting all the columns to numeric\n",
    "df = df.apply(pd.to_numeric, errors='coerce')"
   ]
  },
  {
   "cell_type": "code",
   "execution_count": 126,
   "metadata": {},
   "outputs": [
    {
     "name": "stdout",
     "output_type": "stream",
     "text": [
      "<class 'pandas.core.frame.DataFrame'>\n",
      "RangeIndex: 4896 entries, 0 to 4895\n",
      "Data columns (total 12 columns):\n",
      "fixed acidity           4891 non-null float64\n",
      "volatile acidity        4890 non-null float64\n",
      "citric acid             4842 non-null float64\n",
      "residual sugar          4885 non-null float64\n",
      "chlorides               4889 non-null float64\n",
      "free sulfur dioxide     4887 non-null float64\n",
      "total sulfur dioxide    4888 non-null float64\n",
      "density                 4889 non-null float64\n",
      "pH                      4889 non-null float64\n",
      "sulphates               4891 non-null float64\n",
      "alcohol                 4889 non-null float64\n",
      "quality                 4794 non-null float64\n",
      "dtypes: float64(12)\n",
      "memory usage: 459.1 KB\n"
     ]
    }
   ],
   "source": [
    "#displaying the information of the dataframe \n",
    "df.info()"
   ]
  },
  {
   "cell_type": "markdown",
   "metadata": {},
   "source": [
    "\n",
    "\n",
    "<b>OBSERVATION:</b>\n",
    "    \n",
    "Now all the columns are of type float. So we can apply describe on it. \n"
   ]
  },
  {
   "cell_type": "code",
   "execution_count": 127,
   "metadata": {},
   "outputs": [
    {
     "data": {
      "text/html": [
       "<div>\n",
       "<style scoped>\n",
       "    .dataframe tbody tr th:only-of-type {\n",
       "        vertical-align: middle;\n",
       "    }\n",
       "\n",
       "    .dataframe tbody tr th {\n",
       "        vertical-align: top;\n",
       "    }\n",
       "\n",
       "    .dataframe thead th {\n",
       "        text-align: right;\n",
       "    }\n",
       "</style>\n",
       "<table border=\"1\" class=\"dataframe\">\n",
       "  <thead>\n",
       "    <tr style=\"text-align: right;\">\n",
       "      <th></th>\n",
       "      <th>fixed acidity</th>\n",
       "      <th>volatile acidity</th>\n",
       "      <th>citric acid</th>\n",
       "      <th>residual sugar</th>\n",
       "      <th>chlorides</th>\n",
       "      <th>free sulfur dioxide</th>\n",
       "      <th>total sulfur dioxide</th>\n",
       "      <th>density</th>\n",
       "      <th>pH</th>\n",
       "      <th>sulphates</th>\n",
       "      <th>alcohol</th>\n",
       "      <th>quality</th>\n",
       "    </tr>\n",
       "  </thead>\n",
       "  <tbody>\n",
       "    <tr>\n",
       "      <td>count</td>\n",
       "      <td>4891.000000</td>\n",
       "      <td>4890.000000</td>\n",
       "      <td>4842.000000</td>\n",
       "      <td>4885.000000</td>\n",
       "      <td>4889.000000</td>\n",
       "      <td>4887.000000</td>\n",
       "      <td>4888.000000</td>\n",
       "      <td>4889.000000</td>\n",
       "      <td>4889.000000</td>\n",
       "      <td>4891.000000</td>\n",
       "      <td>4889.000000</td>\n",
       "      <td>4794.000000</td>\n",
       "    </tr>\n",
       "    <tr>\n",
       "      <td>mean</td>\n",
       "      <td>6.855030</td>\n",
       "      <td>0.278244</td>\n",
       "      <td>0.334292</td>\n",
       "      <td>6.395609</td>\n",
       "      <td>0.045779</td>\n",
       "      <td>35.329036</td>\n",
       "      <td>138.406199</td>\n",
       "      <td>0.994028</td>\n",
       "      <td>3.188116</td>\n",
       "      <td>0.489812</td>\n",
       "      <td>10.514211</td>\n",
       "      <td>5.876929</td>\n",
       "    </tr>\n",
       "    <tr>\n",
       "      <td>std</td>\n",
       "      <td>0.844023</td>\n",
       "      <td>0.100828</td>\n",
       "      <td>0.120942</td>\n",
       "      <td>5.074504</td>\n",
       "      <td>0.021863</td>\n",
       "      <td>17.014816</td>\n",
       "      <td>42.506828</td>\n",
       "      <td>0.002992</td>\n",
       "      <td>0.150950</td>\n",
       "      <td>0.114096</td>\n",
       "      <td>1.230556</td>\n",
       "      <td>0.884692</td>\n",
       "    </tr>\n",
       "    <tr>\n",
       "      <td>min</td>\n",
       "      <td>3.800000</td>\n",
       "      <td>0.080000</td>\n",
       "      <td>0.000000</td>\n",
       "      <td>0.600000</td>\n",
       "      <td>0.009000</td>\n",
       "      <td>2.000000</td>\n",
       "      <td>9.000000</td>\n",
       "      <td>0.987110</td>\n",
       "      <td>2.720000</td>\n",
       "      <td>0.220000</td>\n",
       "      <td>8.000000</td>\n",
       "      <td>3.000000</td>\n",
       "    </tr>\n",
       "    <tr>\n",
       "      <td>25%</td>\n",
       "      <td>6.300000</td>\n",
       "      <td>0.210000</td>\n",
       "      <td>0.270000</td>\n",
       "      <td>1.700000</td>\n",
       "      <td>0.036000</td>\n",
       "      <td>23.000000</td>\n",
       "      <td>108.000000</td>\n",
       "      <td>0.991730</td>\n",
       "      <td>3.090000</td>\n",
       "      <td>0.410000</td>\n",
       "      <td>9.500000</td>\n",
       "      <td>5.000000</td>\n",
       "    </tr>\n",
       "    <tr>\n",
       "      <td>50%</td>\n",
       "      <td>6.800000</td>\n",
       "      <td>0.260000</td>\n",
       "      <td>0.320000</td>\n",
       "      <td>5.200000</td>\n",
       "      <td>0.043000</td>\n",
       "      <td>34.000000</td>\n",
       "      <td>134.000000</td>\n",
       "      <td>0.993740</td>\n",
       "      <td>3.180000</td>\n",
       "      <td>0.470000</td>\n",
       "      <td>10.400000</td>\n",
       "      <td>6.000000</td>\n",
       "    </tr>\n",
       "    <tr>\n",
       "      <td>75%</td>\n",
       "      <td>7.300000</td>\n",
       "      <td>0.320000</td>\n",
       "      <td>0.390000</td>\n",
       "      <td>9.900000</td>\n",
       "      <td>0.050000</td>\n",
       "      <td>46.000000</td>\n",
       "      <td>167.000000</td>\n",
       "      <td>0.996100</td>\n",
       "      <td>3.280000</td>\n",
       "      <td>0.550000</td>\n",
       "      <td>11.400000</td>\n",
       "      <td>6.000000</td>\n",
       "    </tr>\n",
       "    <tr>\n",
       "      <td>max</td>\n",
       "      <td>14.200000</td>\n",
       "      <td>1.100000</td>\n",
       "      <td>1.660000</td>\n",
       "      <td>65.800000</td>\n",
       "      <td>0.346000</td>\n",
       "      <td>289.000000</td>\n",
       "      <td>440.000000</td>\n",
       "      <td>1.038980</td>\n",
       "      <td>3.820000</td>\n",
       "      <td>1.080000</td>\n",
       "      <td>14.200000</td>\n",
       "      <td>9.000000</td>\n",
       "    </tr>\n",
       "  </tbody>\n",
       "</table>\n",
       "</div>"
      ],
      "text/plain": [
       "       fixed acidity  volatile acidity  citric acid  residual sugar  \\\n",
       "count    4891.000000       4890.000000  4842.000000     4885.000000   \n",
       "mean        6.855030          0.278244     0.334292        6.395609   \n",
       "std         0.844023          0.100828     0.120942        5.074504   \n",
       "min         3.800000          0.080000     0.000000        0.600000   \n",
       "25%         6.300000          0.210000     0.270000        1.700000   \n",
       "50%         6.800000          0.260000     0.320000        5.200000   \n",
       "75%         7.300000          0.320000     0.390000        9.900000   \n",
       "max        14.200000          1.100000     1.660000       65.800000   \n",
       "\n",
       "         chlorides  free sulfur dioxide  total sulfur dioxide      density  \\\n",
       "count  4889.000000          4887.000000           4888.000000  4889.000000   \n",
       "mean      0.045779            35.329036            138.406199     0.994028   \n",
       "std       0.021863            17.014816             42.506828     0.002992   \n",
       "min       0.009000             2.000000              9.000000     0.987110   \n",
       "25%       0.036000            23.000000            108.000000     0.991730   \n",
       "50%       0.043000            34.000000            134.000000     0.993740   \n",
       "75%       0.050000            46.000000            167.000000     0.996100   \n",
       "max       0.346000           289.000000            440.000000     1.038980   \n",
       "\n",
       "                pH    sulphates      alcohol      quality  \n",
       "count  4889.000000  4891.000000  4889.000000  4794.000000  \n",
       "mean      3.188116     0.489812    10.514211     5.876929  \n",
       "std       0.150950     0.114096     1.230556     0.884692  \n",
       "min       2.720000     0.220000     8.000000     3.000000  \n",
       "25%       3.090000     0.410000     9.500000     5.000000  \n",
       "50%       3.180000     0.470000    10.400000     6.000000  \n",
       "75%       3.280000     0.550000    11.400000     6.000000  \n",
       "max       3.820000     1.080000    14.200000     9.000000  "
      ]
     },
     "execution_count": 127,
     "metadata": {},
     "output_type": "execute_result"
    }
   ],
   "source": [
    "#displaying stats of the dataframe\n",
    "df.describe()"
   ]
  },
  {
   "cell_type": "markdown",
   "metadata": {},
   "source": [
    "\n",
    "\n",
    "<b>OBSERVATION:</b>\n",
    "    \n",
    "We can see the stats according to each column\n",
    "\n",
    "\n",
    "-----------------------------------------------------------------------------------------------------------------\n",
    "\n",
    "Pandas: head()\n",
    "\n",
    "This function returns the first n rows for the object based on position. It is useful for quickly testing if your object has the right type of data in it.\n",
    "\n",
    "Parameters\n",
    "\n",
    "    \n",
    "n  :   int, default 5\n",
    "\n",
    "Number of rows to select.\n",
    "\n",
    "\n",
    "        \n",
    "    "
   ]
  },
  {
   "cell_type": "code",
   "execution_count": 128,
   "metadata": {},
   "outputs": [
    {
     "data": {
      "text/html": [
       "<div>\n",
       "<style scoped>\n",
       "    .dataframe tbody tr th:only-of-type {\n",
       "        vertical-align: middle;\n",
       "    }\n",
       "\n",
       "    .dataframe tbody tr th {\n",
       "        vertical-align: top;\n",
       "    }\n",
       "\n",
       "    .dataframe thead th {\n",
       "        text-align: right;\n",
       "    }\n",
       "</style>\n",
       "<table border=\"1\" class=\"dataframe\">\n",
       "  <thead>\n",
       "    <tr style=\"text-align: right;\">\n",
       "      <th></th>\n",
       "      <th>fixed acidity</th>\n",
       "      <th>volatile acidity</th>\n",
       "      <th>citric acid</th>\n",
       "      <th>residual sugar</th>\n",
       "      <th>chlorides</th>\n",
       "      <th>free sulfur dioxide</th>\n",
       "      <th>total sulfur dioxide</th>\n",
       "      <th>density</th>\n",
       "      <th>pH</th>\n",
       "      <th>sulphates</th>\n",
       "      <th>alcohol</th>\n",
       "      <th>quality</th>\n",
       "    </tr>\n",
       "  </thead>\n",
       "  <tbody>\n",
       "    <tr>\n",
       "      <td>0</td>\n",
       "      <td>7.0</td>\n",
       "      <td>0.27</td>\n",
       "      <td>0.36</td>\n",
       "      <td>20.7</td>\n",
       "      <td>0.045</td>\n",
       "      <td>45.0</td>\n",
       "      <td>170.0</td>\n",
       "      <td>1.0010</td>\n",
       "      <td>3.00</td>\n",
       "      <td>0.45</td>\n",
       "      <td>8.8</td>\n",
       "      <td>6.0</td>\n",
       "    </tr>\n",
       "    <tr>\n",
       "      <td>1</td>\n",
       "      <td>6.3</td>\n",
       "      <td>0.30</td>\n",
       "      <td>0.34</td>\n",
       "      <td>1.6</td>\n",
       "      <td>0.049</td>\n",
       "      <td>14.0</td>\n",
       "      <td>132.0</td>\n",
       "      <td>0.9940</td>\n",
       "      <td>3.30</td>\n",
       "      <td>0.49</td>\n",
       "      <td>9.5</td>\n",
       "      <td>6.0</td>\n",
       "    </tr>\n",
       "    <tr>\n",
       "      <td>2</td>\n",
       "      <td>8.1</td>\n",
       "      <td>0.28</td>\n",
       "      <td>0.40</td>\n",
       "      <td>6.9</td>\n",
       "      <td>0.050</td>\n",
       "      <td>30.0</td>\n",
       "      <td>97.0</td>\n",
       "      <td>0.9951</td>\n",
       "      <td>3.26</td>\n",
       "      <td>0.44</td>\n",
       "      <td>10.1</td>\n",
       "      <td>6.0</td>\n",
       "    </tr>\n",
       "    <tr>\n",
       "      <td>3</td>\n",
       "      <td>7.2</td>\n",
       "      <td>0.23</td>\n",
       "      <td>0.32</td>\n",
       "      <td>8.5</td>\n",
       "      <td>0.058</td>\n",
       "      <td>47.0</td>\n",
       "      <td>186.0</td>\n",
       "      <td>0.9956</td>\n",
       "      <td>3.19</td>\n",
       "      <td>0.40</td>\n",
       "      <td>9.9</td>\n",
       "      <td>6.0</td>\n",
       "    </tr>\n",
       "    <tr>\n",
       "      <td>4</td>\n",
       "      <td>7.2</td>\n",
       "      <td>0.23</td>\n",
       "      <td>0.32</td>\n",
       "      <td>8.5</td>\n",
       "      <td>0.058</td>\n",
       "      <td>47.0</td>\n",
       "      <td>186.0</td>\n",
       "      <td>0.9956</td>\n",
       "      <td>3.19</td>\n",
       "      <td>0.40</td>\n",
       "      <td>9.9</td>\n",
       "      <td>6.0</td>\n",
       "    </tr>\n",
       "  </tbody>\n",
       "</table>\n",
       "</div>"
      ],
      "text/plain": [
       "   fixed acidity  volatile acidity  citric acid  residual sugar  chlorides  \\\n",
       "0            7.0              0.27         0.36            20.7      0.045   \n",
       "1            6.3              0.30         0.34             1.6      0.049   \n",
       "2            8.1              0.28         0.40             6.9      0.050   \n",
       "3            7.2              0.23         0.32             8.5      0.058   \n",
       "4            7.2              0.23         0.32             8.5      0.058   \n",
       "\n",
       "   free sulfur dioxide  total sulfur dioxide  density    pH  sulphates  \\\n",
       "0                 45.0                 170.0   1.0010  3.00       0.45   \n",
       "1                 14.0                 132.0   0.9940  3.30       0.49   \n",
       "2                 30.0                  97.0   0.9951  3.26       0.44   \n",
       "3                 47.0                 186.0   0.9956  3.19       0.40   \n",
       "4                 47.0                 186.0   0.9956  3.19       0.40   \n",
       "\n",
       "   alcohol  quality  \n",
       "0      8.8      6.0  \n",
       "1      9.5      6.0  \n",
       "2     10.1      6.0  \n",
       "3      9.9      6.0  \n",
       "4      9.9      6.0  "
      ]
     },
     "execution_count": 128,
     "metadata": {},
     "output_type": "execute_result"
    }
   ],
   "source": [
    "#displaying first 5 rows\n",
    "df.head()"
   ]
  },
  {
   "cell_type": "markdown",
   "metadata": {},
   "source": [
    "---------------------------------------------------------------------------------------------------------------\n",
    "\n",
    "<b>For calculating number of wines included in the dataset we need to calculate the number of rows.</b>\n",
    "\n",
    "\n",
    "For calculating number of rows we will use:\n",
    "    \n",
    "Pandas: shape\n",
    "\n",
    "This will return two arguments first is the number of rows and second number of columns\n",
    "\n",
    "(Here, We need only number of rows)\n"
   ]
  },
  {
   "cell_type": "code",
   "execution_count": 129,
   "metadata": {},
   "outputs": [
    {
     "name": "stdout",
     "output_type": "stream",
     "text": [
      "Number of wines:  4896\n"
     ]
    }
   ],
   "source": [
    "#r for rows and c for columns, calculating the shape \n",
    "r , c = df.shape\n",
    "print('Number of wines: ',r)"
   ]
  },
  {
   "cell_type": "markdown",
   "metadata": {},
   "source": [
    "\n",
    "\n",
    "<b>OBSERVATION:</b>\n",
    "    \n",
    "    \n",
    "Before preprocessing, there are 4896 wines included in the dataset.\n",
    "\n",
    "\n",
    "-----------------------------------------------------------------------------------------------------------------\n",
    "\n",
    "<b>To answer if all the wines are unique we will use</b> \n",
    "\n",
    "\n",
    "Pandas: duplicated()\n",
    "\n",
    "\n",
    "df.duplicated(subset='one', keep='first').sum()\n",
    "\n",
    "where\n",
    "\n",
    "subset : column label or sequence of labels(by default use all of the columns)\n",
    "\n",
    "keep : {‘first’, ‘last’, False}, default ‘first’\n",
    "\n",
    "first : Mark duplicates as True except for the first occurrence.\n",
    "last : Mark duplicates as True except for the last occurrence.\n",
    "False : Mark all duplicates as True.\n",
    "\n",
    "\n",
    "Sum(): Will calculate the number of these rows\n"
   ]
  },
  {
   "cell_type": "code",
   "execution_count": 130,
   "metadata": {},
   "outputs": [
    {
     "name": "stdout",
     "output_type": "stream",
     "text": [
      "Number of repeated wines:  884\n"
     ]
    }
   ],
   "source": [
    "#calculating the duplicate wines \n",
    "print('Number of repeated wines: ',df.duplicated().sum())"
   ]
  },
  {
   "cell_type": "code",
   "execution_count": 131,
   "metadata": {},
   "outputs": [
    {
     "name": "stdout",
     "output_type": "stream",
     "text": [
      "Number of unique wines:  4012\n"
     ]
    }
   ],
   "source": [
    "#calculating the unique wines\n",
    "print('Number of unique wines: ',df.shape[0]-df.duplicated().sum())"
   ]
  },
  {
   "cell_type": "markdown",
   "metadata": {},
   "source": [
    "\n",
    "\n",
    "<b>OBSERVATION:</b>\n",
    "    \n",
    "So it means there are 884 duplicate rows means 884 are same type of wines and 4012 are unique wines.\n",
    "\n",
    "<b>EXPLAINATION:</b>\n",
    "\n",
    "df.shape[0] : Will give the total number of wines\n",
    "\n",
    "df.duplicated().sum(): Will give the wines that are ot unique\n",
    "    \n",
    "So the subtraction of above two will give the number of unique wines.\n",
    "\n",
    "Sum(): Will calculate the number of these rows"
   ]
  },
  {
   "cell_type": "markdown",
   "metadata": {},
   "source": [
    "\n",
    "------------------------------------------------------------------------------------------------------------------\n",
    "\n",
    "<b>To calculate the missing or invalid values</b> \n",
    "\n",
    "Pandas: isna()\n",
    "\n",
    "Detect missing values.\n",
    "\n",
    "Return a boolean same-sized object indicating if the values are NA. NA values, such as None or numpy.NaN, gets mapped to True values. Everything else gets mapped to False values.\n",
    "\n",
    "Sum(): Will calculate the number of these rows"
   ]
  },
  {
   "cell_type": "code",
   "execution_count": 132,
   "metadata": {},
   "outputs": [
    {
     "data": {
      "text/plain": [
       "fixed acidity             5\n",
       "volatile acidity          6\n",
       "citric acid              54\n",
       "residual sugar           11\n",
       "chlorides                 7\n",
       "free sulfur dioxide       9\n",
       "total sulfur dioxide      8\n",
       "density                   7\n",
       "pH                        7\n",
       "sulphates                 5\n",
       "alcohol                   7\n",
       "quality                 102\n",
       "dtype: int64"
      ]
     },
     "execution_count": 132,
     "metadata": {},
     "output_type": "execute_result"
    }
   ],
   "source": [
    "#calculating the total nan values according to each column\n",
    "df.isna().sum()"
   ]
  },
  {
   "cell_type": "markdown",
   "metadata": {},
   "source": [
    "\n",
    "\n",
    "<b>OBSERVATION:</b>\n",
    "\n",
    "We can see the sum of nan values in each column and can observe that they are maximum in quality column and minimum in fixed_acidity and sulphates."
   ]
  },
  {
   "cell_type": "markdown",
   "metadata": {},
   "source": [
    "------------------------------------------------------------------------------------------------------------------\n",
    "\n",
    "\n",
    "<b>For Scaling</b>: We will see the minimum and maximum value of each attribute.\n",
    "\n",
    "So, we will use:\n",
    "\n",
    "Pandas: min()\n",
    "\n",
    "Return the minimum of the values for the requested axis.\n",
    "    \n",
    "Pandas: max()\n",
    "\n",
    "Return the maximum of the values for the requested axis."
   ]
  },
  {
   "cell_type": "code",
   "execution_count": 133,
   "metadata": {},
   "outputs": [
    {
     "data": {
      "text/plain": [
       "fixed acidity           3.80000\n",
       "volatile acidity        0.08000\n",
       "citric acid             0.00000\n",
       "residual sugar          0.60000\n",
       "chlorides               0.00900\n",
       "free sulfur dioxide     2.00000\n",
       "total sulfur dioxide    9.00000\n",
       "density                 0.98711\n",
       "pH                      2.72000\n",
       "sulphates               0.22000\n",
       "alcohol                 8.00000\n",
       "quality                 3.00000\n",
       "dtype: float64"
      ]
     },
     "execution_count": 133,
     "metadata": {},
     "output_type": "execute_result"
    }
   ],
   "source": [
    "#calculating minimum of each column\n",
    "df.min()"
   ]
  },
  {
   "cell_type": "code",
   "execution_count": 134,
   "metadata": {},
   "outputs": [
    {
     "data": {
      "text/plain": [
       "fixed acidity            14.20000\n",
       "volatile acidity          1.10000\n",
       "citric acid               1.66000\n",
       "residual sugar           65.80000\n",
       "chlorides                 0.34600\n",
       "free sulfur dioxide     289.00000\n",
       "total sulfur dioxide    440.00000\n",
       "density                   1.03898\n",
       "pH                        3.82000\n",
       "sulphates                 1.08000\n",
       "alcohol                  14.20000\n",
       "quality                   9.00000\n",
       "dtype: float64"
      ]
     },
     "execution_count": 134,
     "metadata": {},
     "output_type": "execute_result"
    }
   ],
   "source": [
    "#calculating maximum of each column\n",
    "df.max()"
   ]
  },
  {
   "cell_type": "markdown",
   "metadata": {},
   "source": [
    "\n",
    "\n",
    "<b>OBSERVATION:</b>\n",
    "\n",
    "\n",
    "    \n",
    "We can observe that scale of each attributes are as follows:\n",
    "\n",
    "fixed_acidity: 3.8-14.2\n",
    "\n",
    "volatile_acidity: 0.08 - 1.1\n",
    "\n",
    "citric acid: 0.00-1.66\n",
    "\n",
    "residual sugar:0.6-65.8\n",
    "\n",
    "chlorides: 0.009-0.346\n",
    "\n",
    "free sulfur dioxide:2-289.0\n",
    "\n",
    "total sulfur dioxide:9-440\n",
    "\n",
    "density:0.98711-1.03898\n",
    "\n",
    "pH:2.72:3.82\n",
    "\n",
    "sulphates:0.22:1.08\n",
    "\n",
    "alcohol: 8-14.2\n",
    "\n",
    "quality:3-9\n",
    "\n",
    "    \n",
    "From the above scale we can observe that scale of different attributes are not equal. \n",
    "\n",
    "All the observations are before preprocessing we can scale the whole data using sklearn:\n",
    "    \n",
    "sklearn.preprocessing.scale(X, axis=0, with_mean=True, with_std=True, copy=True)\n",
    "\n",
    "But not used here as it is increasing the error values that means scaling is not required on this data. \n",
    "\n",
    "-----------------------------------------------------------------------------------------------------------------\n",
    "\n",
    "<b>SIMPLE PREPROCESSING TASKS:</b>\n",
    "\n",
    "    \n",
    "For simple preprocessing tasks we are replacing all nan values with the mean of each attributes.(imputation: Mean)\n",
    "\n",
    "For this we use:\n",
    "\n",
    "Pandas: fillna()\n",
    "\n",
    "Fill NA/NaN values using the specified method.\n",
    "\n",
    "Parameter: inplace: bool, default False\n",
    "\n",
    "If True, fill in-place. Note: this will modify any other views on this object (e.g., a no-copy slice for a column in a DataFrame).\n",
    "\n",
    "\n",
    "We use mean value for imputation because by replacing na values with mean will not create any effect on mathematical analysis of that attribute.\n",
    "\n"
   ]
  },
  {
   "cell_type": "code",
   "execution_count": 135,
   "metadata": {},
   "outputs": [],
   "source": [
    "#replacing na with mean value \n",
    "df.fillna(df.mean(), inplace=True)"
   ]
  },
  {
   "cell_type": "code",
   "execution_count": 136,
   "metadata": {},
   "outputs": [
    {
     "data": {
      "text/plain": [
       "fixed acidity           0\n",
       "volatile acidity        0\n",
       "citric acid             0\n",
       "residual sugar          0\n",
       "chlorides               0\n",
       "free sulfur dioxide     0\n",
       "total sulfur dioxide    0\n",
       "density                 0\n",
       "pH                      0\n",
       "sulphates               0\n",
       "alcohol                 0\n",
       "quality                 0\n",
       "dtype: int64"
      ]
     },
     "execution_count": 136,
     "metadata": {},
     "output_type": "execute_result"
    }
   ],
   "source": [
    "#verifying if our dataset still have any na values\n",
    "df.isna().sum()"
   ]
  },
  {
   "cell_type": "markdown",
   "metadata": {},
   "source": [
    "\n",
    "<b>OBSERVATION:</b>\n",
    "    \n",
    "We can see that now now attributes have na values.\n",
    "By “missing” we simply mean NA (“not available”) or “not present for whatever reason”. Many data sets simply arrive with missing data, either because it exists and was not collected or it never existed.\n"
   ]
  },
  {
   "cell_type": "markdown",
   "metadata": {},
   "source": [
    "------------------------------------------------------------------------------------------------------------------\n",
    "\n",
    "We want to predict the quality so Quality will be the output and all the other columns will be the input.\n",
    "\n",
    "Creating two set one for the input and next for the output"
   ]
  },
  {
   "cell_type": "code",
   "execution_count": 137,
   "metadata": {},
   "outputs": [],
   "source": [
    "#input (excluding quality column)\n",
    "data_input = df[[i for i in list(df.columns) if i != 'quality']]"
   ]
  },
  {
   "cell_type": "code",
   "execution_count": 138,
   "metadata": {},
   "outputs": [],
   "source": [
    "#output (considering only quality column)\n",
    "data_output = df['quality']"
   ]
  },
  {
   "cell_type": "markdown",
   "metadata": {},
   "source": [
    "\n",
    "<b>OBSERVATION:</b>\n",
    "    \n",
    "We have separated our data into input and output."
   ]
  },
  {
   "cell_type": "markdown",
   "metadata": {},
   "source": [
    "-----------------------------------------------------------------------------------------------------------------\n",
    "\n",
    "<h4 align='center'>After preprocessing again answering the above questions:</h4>\n",
    "\n",
    "<b>1. Number of wines included</b>"
   ]
  },
  {
   "cell_type": "code",
   "execution_count": 139,
   "metadata": {},
   "outputs": [
    {
     "name": "stdout",
     "output_type": "stream",
     "text": [
      "Number of wines (after preprocessing data): 4896\n"
     ]
    }
   ],
   "source": [
    "#r for rows and c for columns, calculating the shape \n",
    "r , c = df.shape\n",
    "print('Number of wines (after preprocessing data):',r)"
   ]
  },
  {
   "cell_type": "markdown",
   "metadata": {},
   "source": [
    "4896 wines included\n",
    "\n",
    "\n",
    "\n",
    "<b>2. Number of unique wines</b>"
   ]
  },
  {
   "cell_type": "code",
   "execution_count": 140,
   "metadata": {},
   "outputs": [
    {
     "name": "stdout",
     "output_type": "stream",
     "text": [
      "Number of repeated wines(after preprocessing data): 884\n"
     ]
    }
   ],
   "source": [
    "#calculating the duplicate wines \n",
    "print('Number of repeated wines(after preprocessing data):', df.duplicated().sum())"
   ]
  },
  {
   "cell_type": "code",
   "execution_count": 141,
   "metadata": {},
   "outputs": [
    {
     "name": "stdout",
     "output_type": "stream",
     "text": [
      "Number of unique wines(after preprocessing data):  4012\n"
     ]
    }
   ],
   "source": [
    "#calculating the unique wines\n",
    "print('Number of unique wines(after preprocessing data): ', df.shape[0]-df.duplicated().sum())"
   ]
  },
  {
   "cell_type": "markdown",
   "metadata": {},
   "source": [
    "882 wines are repeated \n",
    "4012 are unique wines \n",
    "\n",
    "\n",
    "<b>3. Finding any missing values</b>"
   ]
  },
  {
   "cell_type": "code",
   "execution_count": 142,
   "metadata": {},
   "outputs": [
    {
     "data": {
      "text/plain": [
       "fixed acidity           0\n",
       "volatile acidity        0\n",
       "citric acid             0\n",
       "residual sugar          0\n",
       "chlorides               0\n",
       "free sulfur dioxide     0\n",
       "total sulfur dioxide    0\n",
       "density                 0\n",
       "pH                      0\n",
       "sulphates               0\n",
       "alcohol                 0\n",
       "quality                 0\n",
       "dtype: int64"
      ]
     },
     "execution_count": 142,
     "metadata": {},
     "output_type": "execute_result"
    }
   ],
   "source": [
    "#verifying if our dataset still have any na values\n",
    "df.isna().sum()"
   ]
  },
  {
   "cell_type": "markdown",
   "metadata": {},
   "source": [
    "There are no missing values in data.\n",
    "\n",
    "\n",
    "All the above three observations shown above are after preprocessing the data.\n",
    "And scaling is not done because its increasing error rate in our data. So scaling is still the same and scales are not still equal for different attributes"
   ]
  },
  {
   "cell_type": "markdown",
   "metadata": {},
   "source": [
    "\n",
    "                                        \n",
    "<h3 align = 'center'>!!!!!!!! TASK 2 !!!!!!!!</h3>\n",
    "<h3 align = 'center'>Visualise the Data</h3>\n"
   ]
  },
  {
   "cell_type": "markdown",
   "metadata": {},
   "source": [
    "For plotting frequency histogram of each attribute we use:\n",
    "\n",
    "matplotlib.pyplot.figure()\n",
    "\n",
    "Parameter: figsize : (float, float), optional, default: None\n",
    "\n",
    "width, height in inches. If not provided, defaults to rcParams[\"figure.figsize\"] = [6.4, 4.8] = [6.4, 4.8].\n",
    "\n",
    "matplotlib.pyplot.gca(kwargs) :\n",
    "Get the current Axes instance on the current figure matching the given keyword args, or create one.\n",
    "\n",
    "Pandas: hist()\n",
    "A histogram is a representation of the distribution of data. This function calls matplotlib.pyplot.hist(), on each series in the DataFrame, resulting in one histogram per column.\n"
   ]
  },
  {
   "cell_type": "code",
   "execution_count": 143,
   "metadata": {},
   "outputs": [
    {
     "name": "stderr",
     "output_type": "stream",
     "text": [
      "/home/arpit/anaconda3/lib/python3.7/site-packages/ipykernel_launcher.py:4: UserWarning: To output multiple subplots, the figure containing the passed axes is being cleared\n",
      "  after removing the cwd from sys.path.\n"
     ]
    },
    {
     "data": {
      "text/plain": [
       "array([[<matplotlib.axes._subplots.AxesSubplot object at 0x7f4452417898>,\n",
       "        <matplotlib.axes._subplots.AxesSubplot object at 0x7f4452391be0>,\n",
       "        <matplotlib.axes._subplots.AxesSubplot object at 0x7f44523b9e48>],\n",
       "       [<matplotlib.axes._subplots.AxesSubplot object at 0x7f445236d0f0>,\n",
       "        <matplotlib.axes._subplots.AxesSubplot object at 0x7f445230ac88>,\n",
       "        <matplotlib.axes._subplots.AxesSubplot object at 0x7f4452336ef0>],\n",
       "       [<matplotlib.axes._subplots.AxesSubplot object at 0x7f44522e6198>,\n",
       "        <matplotlib.axes._subplots.AxesSubplot object at 0x7f445228f438>,\n",
       "        <matplotlib.axes._subplots.AxesSubplot object at 0x7f445228f470>],\n",
       "       [<matplotlib.axes._subplots.AxesSubplot object at 0x7f44522608d0>,\n",
       "        <matplotlib.axes._subplots.AxesSubplot object at 0x7f4452288b38>,\n",
       "        <matplotlib.axes._subplots.AxesSubplot object at 0x7f4452231da0>]],\n",
       "      dtype=object)"
      ]
     },
     "execution_count": 143,
     "metadata": {},
     "output_type": "execute_result"
    },
    {
     "data": {
      "image/png": "[encoded data removed]",
      "text/plain": [
       "<Figure size 1080x1440 with 12 Axes>"
      ]
     },
     "metadata": {
      "needs_background": "light"
     },
     "output_type": "display_data"
    }
   ],
   "source": [
    "#plotting the frequency histograms of each attribute\n",
    "fig = plt.figure(figsize = (15,20))\n",
    "ax = fig.gca()\n",
    "df.hist(ax = ax)"
   ]
  },
  {
   "cell_type": "markdown",
   "metadata": {},
   "source": [
    "\n",
    "\n",
    "<b>OBSERVATION:</b>\n",
    "    \n",
    "1. Alcohol: Frequency of graph is normally distributed in the range with the maximum value between 9 and 10 and range between 8 and 15 on x-axis and 0 to 1000 on y-axis.\n",
    "\n",
    "2. Chlorides: We can observe that graph of chloride is left focused (right-skewed)and mostly values (more than 2000 values) lies between 0 and 0.1.\n",
    "\n",
    "3. Citric acid: We can observe that this is also left focused (right-skewed) amd mostly values lie between 0 and 0.5.\n",
    "\n",
    "4. Density: We can observe that this is also left focused (right-skewed) amd mostly values lie between 0.99 and 1.\n",
    "\n",
    "5. Fixed Acidity: We can observe that mostly it lies between 6 and 8.\n",
    "\n",
    "6. Free sulphur dioxide: We can observe that this data is also left focused (right skewed) and mostly its values lie between 0 to 60.\n",
    "\n",
    "7. pH: We can observe that all the values in this column is normally distributed etween the range of 0 to 4.\n",
    "\n",
    "8. Quality: We can observe that the values in te quality is not showing any pattern but we can say that mostly values lies between 6 and 7.\n",
    "\n",
    "9. Residual Sugar: We can observe that this data is also left-focused (right skewed) and mostly its values lie between 0 to 20.\n",
    "\n",
    "10. Sulpahtes: We can observe that this graph is approximately normalised between 0.2 and 1.\n",
    "\n",
    "11. Total Sufur dioxide: We can observe that this graph is somewhat left focused (right skewed) and mostly values lies between 100 and 200.\n",
    "\n",
    "12. Volatile acidity: We can observer that this graph is also left focused(right skewed) and mostly values lies between 0.2 and 0.4.\n",
    "\n",
    "General observation is that mostly graphs are left focused or not normalised. This is beacause the attributes are not scaled in the preprocessing section (not needed in this dataset). "
   ]
  },
  {
   "cell_type": "markdown",
   "metadata": {},
   "source": [
    "------------------------------------------------------------------------------------------------------------------\n",
    "\n",
    "We are trying to predict the quality. \n",
    "\n",
    "We need to find the correlation between each attribute and quality.\n",
    "\n",
    "\n",
    "\n",
    "<b>Why Correlation ??</b>\n",
    "    \n",
    "\n",
    "\n",
    "The correlation coefficient (ρ) is a measure that determines the degree to which two variables' movements are associated. The most common correlation coefficient, generated by the Pearson product-moment correlation, may be used to measure the linear relationship between two variables. However, in a non-linear relationship, this correlation coefficient may not always be a suitable measure of dependence.\n",
    "\n",
    "Correlation coefficients are used to measure the strength of the relationship between two variables.\n",
    "\n",
    "Positive correlation is a relationship between two variables in which both variables move in tandem—that is, in the same direction.\n",
    "\n",
    "Negative correlation or inverse correlation is a relationship between two variables whereby they move in opposite directions. \n",
    "\n",
    "\n",
    "\n",
    "For finding the correlation between attributes we used:\n",
    "\n",
    "Pandas: corr()\n",
    "\n",
    "Compute pairwise correlation of columns, excluding NA/null values.\n",
    "\n"
   ]
  },
  {
   "cell_type": "code",
   "execution_count": 144,
   "metadata": {},
   "outputs": [],
   "source": [
    "#calculating the correlation of each attribute with the quality\n",
    "corr = df.corr()\n",
    "corr = corr['quality']"
   ]
  },
  {
   "cell_type": "code",
   "execution_count": 145,
   "metadata": {},
   "outputs": [
    {
     "data": {
      "text/plain": [
       "free sulfur dioxide     0.007114\n",
       "citric acid            -0.007292\n",
       "sulphates               0.052997\n",
       "residual sugar         -0.096690\n",
       "pH                      0.097506\n",
       "fixed acidity          -0.114036\n",
       "total sulfur dioxide   -0.173462\n",
       "volatile acidity       -0.196791\n",
       "chlorides              -0.206581\n",
       "density                -0.301418\n",
       "alcohol                 0.425486\n",
       "quality                 1.000000\n",
       "Name: quality, dtype: float64"
      ]
     },
     "execution_count": 145,
     "metadata": {},
     "output_type": "execute_result"
    }
   ],
   "source": [
    "#arranging them in increasing order on the basis of their absolute values\n",
    "corr.reindex(corr.abs().sort_values().index)"
   ]
  },
  {
   "cell_type": "markdown",
   "metadata": {},
   "source": [
    "\n",
    "<b>OBSERVATION:</b>\n",
    "    \n",
    "From the above calculated data we can see that the most correlated attributes with quality are:\n",
    "    \n",
    "    1. Chlorides :  -0.206581\n",
    "    2. Density  :   -0.301418\n",
    "    3. Alcohol  :    0.425486\n",
    "        \n",
    "We can see that Chlorides and Desity are negatively correlated and Alcohol is positively correlated means when the Chlorides and density decreases and Alcohol increases we will get the high quality."
   ]
  },
  {
   "cell_type": "markdown",
   "metadata": {},
   "source": [
    "------------------------------------------------------------------------------------------------------------------\n",
    "Displaying HeatMap on the basis of correlation\n",
    "A heat map (or heatmap) is a graphical representation of data where the individual values contained in a matrix are represented as colors. \n",
    "\n",
    "For HeatMap we use:\n",
    "sns.heatmap()\n",
    "\n",
    "seaborn.heatmap(data, vmin=None, vmax=None, cmap=None, center=None, robust=False, annot=None, fmt='.2g', annot_kws=None, linewidths=0, linecolor='white', cbar=True, cbar_kws=None, cbar_ax=None, square=False, xticklabels='auto', yticklabels='auto', mask=None, ax=None, kwargs)\n",
    "\n",
    "Plot rectangular data as a color-encoded matrix.\n"
   ]
  },
  {
   "cell_type": "code",
   "execution_count": 146,
   "metadata": {},
   "outputs": [
    {
     "data": {
      "image/png": "[encoded data removed]",
      "text/plain": [
       "<Figure size 432x288 with 2 Axes>"
      ]
     },
     "metadata": {
      "needs_background": "light"
     },
     "output_type": "display_data"
    }
   ],
   "source": [
    "#plotting heatmap to compare correlation\n",
    "sns.heatmap(df.corr())\n",
    "plt.show()"
   ]
  },
  {
   "cell_type": "markdown",
   "metadata": {},
   "source": [
    "------------------------------------------------------------------------------------------------------------------\n",
    "Displaying the scatter plot for these three high correlated values.\n",
    "\n",
    "For scatter graph we use:\n",
    "    \n",
    "matplotlib.pyplot.scatter(x, y, s=None, c=None, marker=None, cmap=None, norm=None, vmin=None, vmax=None, alpha=None, linewidths=None, verts=None, edgecolors=None, *, plotnonfinite=False, data=None, kwargs)\n",
    "\n",
    "Parameter:\n",
    "\n",
    "alpha : scalar, optional, default: None\n",
    "The alpha blending value, between 0 (transparent) and 1 (opaque).\n",
    "\n",
    "\n",
    "A scatter plot of y vs x with varying marker size and/or color."
   ]
  },
  {
   "cell_type": "code",
   "execution_count": 147,
   "metadata": {},
   "outputs": [
    {
     "data": {
      "text/plain": [
       "Text(0, 0.5, 'Quality')"
      ]
     },
     "execution_count": 147,
     "metadata": {},
     "output_type": "execute_result"
    },
    {
     "data": {
      "image/png": "[encoded data removed]",
      "text/plain": [
       "<Figure size 432x288 with 1 Axes>"
      ]
     },
     "metadata": {
      "needs_background": "light"
     },
     "output_type": "display_data"
    }
   ],
   "source": [
    "#Scatter plot for alcohol\n",
    "plt.scatter(data_input['alcohol'], data_output, alpha=0.1)\n",
    "plt.xlabel('Alcohol')\n",
    "plt.ylabel('Quality')"
   ]
  },
  {
   "cell_type": "markdown",
   "metadata": {},
   "source": [
    "<b>OBSERVATION:</b>\n",
    "\n",
    "    \n",
    "From the above scatter plot it can be observed that value of alcohol is uniformly distributed with most of the values lies between 5 and 7 quality scale. Data is approximately normalised"
   ]
  },
  {
   "cell_type": "code",
   "execution_count": 148,
   "metadata": {},
   "outputs": [
    {
     "data": {
      "text/plain": [
       "Text(0, 0.5, 'Quality')"
      ]
     },
     "execution_count": 148,
     "metadata": {},
     "output_type": "execute_result"
    },
    {
     "data": {
      "image/png": "[encoded data removed]",
      "text/plain": [
       "<Figure size 432x288 with 1 Axes>"
      ]
     },
     "metadata": {
      "needs_background": "light"
     },
     "output_type": "display_data"
    }
   ],
   "source": [
    "#Scatter plot for Density\n",
    "plt.scatter(data_input['density'], data_output, alpha=0.1)\n",
    "plt.xlabel('Density')\n",
    "plt.ylabel('Quality')"
   ]
  },
  {
   "cell_type": "markdown",
   "metadata": {},
   "source": [
    "<b>OBSERVATION:</b>\n",
    "    \n",
    "From the above scatter plot it can be observed that  mostly density values lies between 0.99 and 1 and other all can be treated as outliers. Data is not normalised."
   ]
  },
  {
   "cell_type": "code",
   "execution_count": 149,
   "metadata": {},
   "outputs": [
    {
     "data": {
      "text/plain": [
       "Text(0, 0.5, 'Quality')"
      ]
     },
     "execution_count": 149,
     "metadata": {},
     "output_type": "execute_result"
    },
    {
     "data": {
      "image/png": "[encoded data removed]",
      "text/plain": [
       "<Figure size 432x288 with 1 Axes>"
      ]
     },
     "metadata": {
      "needs_background": "light"
     },
     "output_type": "display_data"
    }
   ],
   "source": [
    "#Scatter plot for chlorides\n",
    "plt.scatter(data_input['chlorides'], data_output,alpha=0.1)\n",
    "plt.xlabel('Chlorides')\n",
    "plt.ylabel('Quality')"
   ]
  },
  {
   "cell_type": "markdown",
   "metadata": {},
   "source": [
    "<b>OBSERVATION:</b>\n",
    "\n",
    "From the above scatter plot it can be observed that mostly values lies between 0 and 0.10 for chlorides and between 4 to 8 for quality. \n",
    "Data is not normalised."
   ]
  },
  {
   "cell_type": "markdown",
   "metadata": {},
   "source": [
    "\n",
    "                                        \n",
    "<h3 align = 'center'>!!!!!!!! TASK 3 !!!!!!!!</h3>\n",
    "<h3 align = 'center'>Predicting wine quality: baseline</h3>\n"
   ]
  },
  {
   "cell_type": "markdown",
   "metadata": {},
   "source": [
    "\n",
    "To predict the quality of wine, we will use regression. We pretend that quality is the real number.\n",
    "\n",
    "We will use root mean square error (rmse) as our error function when evaluationg our predictor.\n",
    "\n",
    "<b>Why RMSE?</b>\n",
    "\n",
    "The RMSE is the square root of the variance of the residuals. It indicates the absolute fit of the model to the data–how close the observed data points are to the model’s predicted values. Whereas R-squared is a relative measure of fit, RMSE is an absolute measure of fit. As the square root of a variance, RMSE can be interpreted as the standard deviation of the unexplained variance, and has the useful property of being in the same units as the response variable. Lower values of RMSE indicate better fit. RMSE is a good measure of how accurately the model predicts the response, and it is the most important criterion for fit if the main purpose of the model is prediction.\n",
    "\n",
    "Refer the RMSE formula from this link: https://www.statisticshowto.datasciencecentral.com/rmse/\n",
    "\n",
    "------------------------------------------------------------------------------------------------------------------\n",
    "\n",
    "For all the future process, we first need to split our data into train and test sets. We need to randomly select 80% as train data and 20% as the test data.\n",
    "\n",
    "For implementing this we use sklearn split:\n",
    "\n",
    "sklearn.model_selection.train_test_split(arrays,options)\n",
    "Split arrays or matrices into random train and test subsets\n",
    "\n",
    "Parameters:\n",
    "\n",
    "\n",
    "arrayssequence of indexables with same length / shape[0]\n",
    "Allowed inputs are lists, numpy arrays, scipy-sparse matrices or pandas dataframes.\n",
    "\n",
    "\n",
    "test_size float, int or None, optional (default=None)\n",
    "If float, should be between 0.0 and 1.0 and represent the proportion of the dataset to include in the test split. If int, represents the absolute number of test samples. If None, the value is set to the complement of the train size. If train_size is also None, it will be set to 0.25.\n",
    "\n",
    "\n",
    "train_size float, int, or None, (default=None)\n",
    "If float, should be between 0.0 and 1.0 and represent the proportion of the dataset to include in the train split. If int, represents the absolute number of train samples. If None, the value is automatically set to the complement of the test size.\n",
    "\n",
    "\n",
    "random_state int, RandomState instance or None, optional (default=None)\n",
    "If int, random_state is the seed used by the random number generator; If RandomState instance, random_state is the random number generator; If None, the random number generator is the RandomState instance used by np.random.\n"
   ]
  },
  {
   "cell_type": "code",
   "execution_count": 150,
   "metadata": {},
   "outputs": [],
   "source": [
    "#Splitting data into train and test set\n",
    "from sklearn.model_selection import train_test_split\n",
    "X_train, X_test, y_train, y_test = train_test_split(data_input, data_output, test_size=0.2, random_state=42)"
   ]
  },
  {
   "cell_type": "markdown",
   "metadata": {},
   "source": [
    "\n",
    "Simple estimation method \n",
    "\n",
    "(Baseline Performance)\n",
    "\n",
    "Steps:\n",
    "    \n",
    "    1. Finding median value of training set\n",
    "    \n",
    "    2. Use that predicted value so need to create array of same value size of Y train\n",
    "\n",
    "For step 1 we use:\n",
    "\n",
    "Pandas: median()\n",
    "\n",
    "DataFrame.median(self, axis=None, skipna=None, level=None, numeric_only=None, kwargs)\n",
    "\n",
    "Return the median of the values for the requested axis.\n",
    "\n",
    "\n",
    "For step 2 we use:\n",
    "\n",
    "Numpy: full()\n",
    "\n",
    "numpy.full(shape, fill_value, dtype=None, order='C')\n",
    "\n",
    "Return a new array of given shape and type, filled with fill_value.\n",
    "    "
   ]
  },
  {
   "cell_type": "code",
   "execution_count": 151,
   "metadata": {},
   "outputs": [],
   "source": [
    "#calculating median value\n",
    "median = y_train.median()"
   ]
  },
  {
   "cell_type": "code",
   "execution_count": 152,
   "metadata": {},
   "outputs": [],
   "source": [
    "#creating array of same value and of same size \n",
    "med_ar = np.full(y_train.shape,median)"
   ]
  },
  {
   "cell_type": "markdown",
   "metadata": {},
   "source": [
    "\n",
    "Now we need to calculate the Root Mean square Errors (RMSE) for the above data.\n",
    "\n",
    "To calculate RMSE we use sklearn to calculate Mean square error (MSE) and then we use square root to calculate the RMSE"
   ]
  },
  {
   "cell_type": "code",
   "execution_count": 153,
   "metadata": {},
   "outputs": [],
   "source": [
    "#importing library to calculate mean square error\n",
    "from sklearn.metrics import mean_squared_error"
   ]
  },
  {
   "cell_type": "code",
   "execution_count": 154,
   "metadata": {},
   "outputs": [
    {
     "name": "stdout",
     "output_type": "stream",
     "text": [
      "Rmse:  0.8914898335566815\n"
     ]
    }
   ],
   "source": [
    "#Calculating RMSE\n",
    "rm = sqrt(mean_squared_error(y_train, med_ar))\n",
    "print('Rmse: ',rm)"
   ]
  },
  {
   "cell_type": "markdown",
   "metadata": {},
   "source": [
    "\n",
    "<b>OBSERVATION:</b>\n",
    "    \n",
    "For the baseline method we get 0.8914898335566815 as the RMSE.\n",
    "Smaller value of RMSE is better but here we are only taking baseline conditions and we have not predicted any value just calculated the RMSE on the basis of the median so we are getting so high value of RMSE.\n",
    "\n",
    "NOTE: It is trained and tested in training set. (As mentioned in the task)\n"
   ]
  },
  {
   "cell_type": "markdown",
   "metadata": {},
   "source": [
    "------------------------------------------------------------------------------------------------------------------\n",
    "\n",
    "<b>Why do we use regression rather than classification to predict quality? Would there be any advantages to treating this as a classification problem instead?</b>\n",
    "\n",
    "\n",
    "Classification is basically used for predicting the discrete labels and regression is used for predicting the continuous quantity. In this dataset we want to predict the quality so we use regression. \n",
    "\n",
    "In some cases we can take regression probelm as classification where the quantity can be converted into discrete labels. For example in this case we can divide the classes of wines into different categories like:\n",
    "    if (3<=quality<6) : Class 0\n",
    "    else if (6<=quality<=9) :Class 1\n",
    "    \n",
    "These will be helpful when we need to divide wines into different categories. This is also called discretization where the target variable is the classification where the labels have an ordered relationship. If we take the nature of predicted data it should be ordered in this dataset that's why its better to use regression otherwise if we want nature of predicted data to unordered we can consider classification. \n",
    "\n",
    "\n",
    "But apart from the above situation I think this problem must be treated as regression problem only:\n",
    "\n",
    "Having +2 decision value means the prediction is very confident that the sample belongs to a positive class  (consider the case in SVM or any binary classification). If the sample indeed belongs to the positive class, it indicates the predictor is perfectly functional. At least, it should be as good as a predictor giving you +1 decision score. However, if we use classification as regression, giving +2 will be heavily penalized since it is larger than 1. This is an undesirable property. Thus, it puts unnecessary requirements to the predicted value.\n",
    "\n",
    "General outcome: When we need to group some data, classification is the suitable approach but whe we need to predict the output regression is much better. So according to me, regression is better approach for predicting values in the wine dataset than classification. \n",
    "\n",
    "\n"
   ]
  },
  {
   "cell_type": "markdown",
   "metadata": {},
   "source": [
    "\n",
    "                                        \n",
    "<h3 align = 'center'>!!!!!!!! TASK 4 !!!!!!!!</h3>\n",
    "<h3 align = 'center'>Predicting wine quality</h3>"
   ]
  },
  {
   "cell_type": "markdown",
   "metadata": {},
   "source": [
    "<h4 align='center'>Linear Regression:</h4>\n",
    "\n",
    "Linear regression is useful for finding relationship between two continuous variables. One is predictor or independent variable and other is response or dependent variable.\n",
    "    \n",
    "The core idea is to obtain a line that best fits the data. The best fit line is the one for which total prediction error (all data points) are as small as possible. Error is the distance between the point to the regression line.\n",
    "    \n",
    "    \n",
    "    \n",
    "    \n",
    "\n",
    "\n",
    "\n",
    "------------------------------------------------------------------------------------------------------------------\n",
    "\n",
    "(For this task)\n",
    "\n",
    "Steps for Linear Regression:\n",
    "\n",
    "1. First we need to implement Linear Regression model to training data.\n",
    "\n",
    "2. Apply to training data \n",
    "\n",
    "3. Calculate the RMSE"
   ]
  },
  {
   "cell_type": "markdown",
   "metadata": {},
   "source": [
    "\n",
    "\n",
    "------------------------------------------------------------------------------------------------------------------\n",
    "\n",
    "\n",
    "Step 1: To implement Linear Regression Model, we will use sklearn:\n",
    "\n",
    "sklearn.linear_model.LinearRegression(fit_intercept=True, normalize=False, copy_X=True, n_jobs=None)\n",
    "\n",
    "Ordinary least squares Linear Regression.\n",
    "\n",
    "LinearRegression fits a linear model with coefficients w = (w1, …, wp) to minimize the residual sum of squares between the observed targets in the dataset, and the targets predicted by the linear approximation.\n",
    "\n"
   ]
  },
  {
   "cell_type": "code",
   "execution_count": 155,
   "metadata": {},
   "outputs": [],
   "source": [
    "#importing sklearn library for Linear Regression\n",
    "from sklearn.linear_model import LinearRegression"
   ]
  },
  {
   "cell_type": "code",
   "execution_count": 156,
   "metadata": {},
   "outputs": [],
   "source": [
    "#creating model\n",
    "l_model = LinearRegression()"
   ]
  },
  {
   "cell_type": "markdown",
   "metadata": {},
   "source": [
    "After defining the model we will fit the training data where X_train is the input and y_train is the output"
   ]
  },
  {
   "cell_type": "code",
   "execution_count": 157,
   "metadata": {},
   "outputs": [
    {
     "data": {
      "text/plain": [
       "LinearRegression(copy_X=True, fit_intercept=True, n_jobs=None,\n",
       "         normalize=False)"
      ]
     },
     "execution_count": 157,
     "metadata": {},
     "output_type": "execute_result"
    }
   ],
   "source": [
    "#fitting the model\n",
    "l_model.fit(X_train, y_train)"
   ]
  },
  {
   "cell_type": "markdown",
   "metadata": {},
   "source": [
    "\n",
    "Step 2: After fitting the data, we need to predict the output.\n",
    "It's already mentioned that we need to predict on the training data only "
   ]
  },
  {
   "cell_type": "code",
   "execution_count": 158,
   "metadata": {},
   "outputs": [],
   "source": [
    "#applying and predicting on the training data\n",
    "l_predicted = l_model.predict(X_train)"
   ]
  },
  {
   "cell_type": "markdown",
   "metadata": {},
   "source": [
    "Displaying the predicted values"
   ]
  },
  {
   "cell_type": "code",
   "execution_count": 159,
   "metadata": {},
   "outputs": [
    {
     "data": {
      "text/plain": [
       "array([5.89581461, 5.85821855, 6.6465694 , ..., 6.11631586, 6.36194534,\n",
       "       5.90671221])"
      ]
     },
     "execution_count": 159,
     "metadata": {},
     "output_type": "execute_result"
    }
   ],
   "source": [
    "#displaying output\n",
    "l_predicted"
   ]
  },
  {
   "cell_type": "markdown",
   "metadata": {},
   "source": [
    "OBSERVATION:\n",
    "\n",
    "The above output is in array for so we need to convert it in dataframe. \n",
    "\n",
    "For this, we use:\n",
    "\n",
    "Pandas(): pd.DataFrame()\n"
   ]
  },
  {
   "cell_type": "code",
   "execution_count": 160,
   "metadata": {},
   "outputs": [],
   "source": [
    "#converting it to dataframe from array\n",
    "l_predicted = pd.DataFrame(l_predicted)"
   ]
  },
  {
   "cell_type": "code",
   "execution_count": 161,
   "metadata": {},
   "outputs": [
    {
     "data": {
      "text/html": [
       "<div>\n",
       "<style scoped>\n",
       "    .dataframe tbody tr th:only-of-type {\n",
       "        vertical-align: middle;\n",
       "    }\n",
       "\n",
       "    .dataframe tbody tr th {\n",
       "        vertical-align: top;\n",
       "    }\n",
       "\n",
       "    .dataframe thead th {\n",
       "        text-align: right;\n",
       "    }\n",
       "</style>\n",
       "<table border=\"1\" class=\"dataframe\">\n",
       "  <thead>\n",
       "    <tr style=\"text-align: right;\">\n",
       "      <th></th>\n",
       "      <th>0</th>\n",
       "    </tr>\n",
       "  </thead>\n",
       "  <tbody>\n",
       "    <tr>\n",
       "      <td>0</td>\n",
       "      <td>5.895815</td>\n",
       "    </tr>\n",
       "    <tr>\n",
       "      <td>1</td>\n",
       "      <td>5.858219</td>\n",
       "    </tr>\n",
       "    <tr>\n",
       "      <td>2</td>\n",
       "      <td>6.646569</td>\n",
       "    </tr>\n",
       "    <tr>\n",
       "      <td>3</td>\n",
       "      <td>6.556320</td>\n",
       "    </tr>\n",
       "    <tr>\n",
       "      <td>4</td>\n",
       "      <td>5.879552</td>\n",
       "    </tr>\n",
       "    <tr>\n",
       "      <td>...</td>\n",
       "      <td>...</td>\n",
       "    </tr>\n",
       "    <tr>\n",
       "      <td>3911</td>\n",
       "      <td>5.758183</td>\n",
       "    </tr>\n",
       "    <tr>\n",
       "      <td>3912</td>\n",
       "      <td>5.943317</td>\n",
       "    </tr>\n",
       "    <tr>\n",
       "      <td>3913</td>\n",
       "      <td>6.116316</td>\n",
       "    </tr>\n",
       "    <tr>\n",
       "      <td>3914</td>\n",
       "      <td>6.361945</td>\n",
       "    </tr>\n",
       "    <tr>\n",
       "      <td>3915</td>\n",
       "      <td>5.906712</td>\n",
       "    </tr>\n",
       "  </tbody>\n",
       "</table>\n",
       "<p>3916 rows × 1 columns</p>\n",
       "</div>"
      ],
      "text/plain": [
       "             0\n",
       "0     5.895815\n",
       "1     5.858219\n",
       "2     6.646569\n",
       "3     6.556320\n",
       "4     5.879552\n",
       "...        ...\n",
       "3911  5.758183\n",
       "3912  5.943317\n",
       "3913  6.116316\n",
       "3914  6.361945\n",
       "3915  5.906712\n",
       "\n",
       "[3916 rows x 1 columns]"
      ]
     },
     "execution_count": 161,
     "metadata": {},
     "output_type": "execute_result"
    }
   ],
   "source": [
    "#displaying output\n",
    "l_predicted"
   ]
  },
  {
   "cell_type": "markdown",
   "metadata": {},
   "source": [
    "Step 3: Now, we need to calculate the RMSE on the predicted values and y_train (actual values). \n",
    "As discussed above, using sklearn library to calculate mean squared error and the square root of this value to to find RMSE"
   ]
  },
  {
   "cell_type": "code",
   "execution_count": 162,
   "metadata": {},
   "outputs": [
    {
     "name": "stdout",
     "output_type": "stream",
     "text": [
      "Rmse:  0.7529640453335492\n"
     ]
    }
   ],
   "source": [
    "#Calculating RMSE\n",
    "rmse_ltest = sqrt(mean_squared_error(l_predicted,y_train))\n",
    "print('Rmse: ',rmse_ltest)"
   ]
  },
  {
   "cell_type": "markdown",
   "metadata": {},
   "source": [
    "<b>OBSERVATION:</b>\n",
    "\n",
    "We get 0.7529640453335492 RMSE value for the Linear Regression model."
   ]
  },
  {
   "cell_type": "markdown",
   "metadata": {},
   "source": [
    "\n",
    "Plotting graph between actual and predicted values\n",
    "\n",
    "For this scatter graph is used where x-axis represents predicted values and y-axis represents actual values.\n",
    "\n",
    "For plotting this matplotlib is used"
   ]
  },
  {
   "cell_type": "code",
   "execution_count": 163,
   "metadata": {},
   "outputs": [
    {
     "data": {
      "text/plain": [
       "Text(0.5, 0, 'Predicted Values')"
      ]
     },
     "execution_count": 163,
     "metadata": {},
     "output_type": "execute_result"
    },
    {
     "data": {
      "image/png": "[encoded data removed]",
      "text/plain": [
       "<Figure size 432x288 with 1 Axes>"
      ]
     },
     "metadata": {
      "needs_background": "light"
     },
     "output_type": "display_data"
    }
   ],
   "source": [
    "#Plotting scatter graph between actual and predicted values\n",
    "plt.scatter(y_train, l_predicted,alpha=0.1)\n",
    "plt.title(\"Comparison between Predicted and Actual Values\")\n",
    "plt.ylabel(\"Actual Values\")\n",
    "plt.xlabel(\"Predicted Values\")"
   ]
  },
  {
   "cell_type": "markdown",
   "metadata": {},
   "source": [
    "<b>OBSERVATION:</b>\n",
    "\n",
    "In the above graph, we can easily observe the significant difference between actual and predicted values that's why we are getting large value of RMSE\n",
    "\n",
    "-----------------------------------------------------------------------------------------------------------------"
   ]
  },
  {
   "cell_type": "markdown",
   "metadata": {},
   "source": [
    "<h4 align='center'>K Nearest Neighbors Regression (KNN Regression):</h4>\n",
    "\n",
    "K nearest neighbors is a simple algorithm that stores all available cases and predict the numerical target based on a similarity measure (e.g., distance functions).\n",
    "A simple implementation of KNN regression is to calculate the average of the numerical target of the K nearest neighbors.  Another approach uses an inverse distance weighted average of the K nearest neighbors. \n",
    "\n",
    "-----------------------------------------------------------------------------------------------------------------\n",
    "\n",
    "(For this task)\n",
    "\n",
    "Steps for KNN Regression:\n",
    "\n",
    "    1. First we need to implement KNN Regression model to training data.\n",
    "\n",
    "    2. Apply to training data\n",
    "\n",
    "    3. Calculate the RMSE\n"
   ]
  },
  {
   "cell_type": "markdown",
   "metadata": {},
   "source": [
    "-----------------------------------------------------------------------------------------------------------------\n",
    "\n",
    "Step 1: To implement KNN Model, we will use sklearn:\n",
    "\n",
    "sklearn.neighbors.KNeighborsRegressor(n_neighbors=5, weights='uniform', algorithm='auto', leaf_size=30, p=2, metric='minkowski', metric_params=None, n_jobs=None, kwargs)\n",
    "\n",
    "Regression based on k-nearest neighbors.\n",
    "\n",
    "The target is predicted by local interpolation of the targets associated of the nearest neighbors in the training set.\n"
   ]
  },
  {
   "cell_type": "code",
   "execution_count": 164,
   "metadata": {},
   "outputs": [],
   "source": [
    "#importing sklearn library for K Nearest Neighbors Regression\n",
    "from sklearn.neighbors import KNeighborsRegressor"
   ]
  },
  {
   "cell_type": "markdown",
   "metadata": {},
   "source": [
    "Before fitting the model we need to select the value of k and we should select that value of k which will give the least RMSE.\n",
    "\n",
    "So for selecting the value of k, we will use ELBOW method. This method will help to select the optimal value of k.\n",
    "We are assuming that we will find optimal k value between 1 and 20."
   ]
  },
  {
   "cell_type": "markdown",
   "metadata": {},
   "source": [
    "Step 2: Using the ELBOW method we will all this model to our training data\n",
    "\n",
    "Step 3: Calculating RMSE and appending it for different values of k"
   ]
  },
  {
   "cell_type": "code",
   "execution_count": 165,
   "metadata": {},
   "outputs": [],
   "source": [
    "#applying ELBOW method and calculating different rmse for each value of k between 1 to 20\n",
    "k_range = range(1, 20)\n",
    "errors = []\n",
    "for k in k_range:\n",
    "    knn = KNeighborsRegressor(n_neighbors=k)\n",
    "    knn.fit(X_train, y_train)\n",
    "    k_predicted = knn.predict(X_train)\n",
    "    errors.append(sqrt(mean_squared_error(k_predicted,y_train)))"
   ]
  },
  {
   "cell_type": "markdown",
   "metadata": {},
   "source": [
    "We can plot the graph between k values ans errors and after plotting we can observe that minimum error is when k value is 1 "
   ]
  },
  {
   "cell_type": "code",
   "execution_count": 166,
   "metadata": {},
   "outputs": [
    {
     "data": {
      "text/plain": [
       "Text(0, 0.5, 'Errors')"
      ]
     },
     "execution_count": 166,
     "metadata": {},
     "output_type": "execute_result"
    },
    {
     "data": {
      "image/png": "[encoded data removed]",
      "text/plain": [
       "<Figure size 432x288 with 1 Axes>"
      ]
     },
     "metadata": {
      "needs_background": "light"
     },
     "output_type": "display_data"
    }
   ],
   "source": [
    "#Scatter plot for k values\n",
    "plt.scatter(k_range, errors)\n",
    "plt.xlabel('K Values')\n",
    "plt.ylabel('Errors')"
   ]
  },
  {
   "cell_type": "code",
   "execution_count": 167,
   "metadata": {},
   "outputs": [
    {
     "data": {
      "text/plain": [
       "[0.06790400670730003,\n",
       " 0.45166433394009475,\n",
       " 0.5613134149366484,\n",
       " 0.616099551319154,\n",
       " 0.6502592022558201,\n",
       " 0.6746813239921651,\n",
       " 0.6942935196231842,\n",
       " 0.7072446081781361,\n",
       " 0.7180795898845659,\n",
       " 0.7248369152605169,\n",
       " 0.7315070260811994,\n",
       " 0.7364806523528575,\n",
       " 0.7436565506673242,\n",
       " 0.7498214693461952,\n",
       " 0.753689426214058,\n",
       " 0.7546729725214443,\n",
       " 0.7578135000991371,\n",
       " 0.7607306082623422,\n",
       " 0.7637364052521413]"
      ]
     },
     "execution_count": 167,
     "metadata": {},
     "output_type": "execute_result"
    }
   ],
   "source": [
    "#displaying error list for k values between 1 to 20\n",
    "errors"
   ]
  },
  {
   "cell_type": "markdown",
   "metadata": {},
   "source": [
    "Above all the error list represents error for values of k between 1 to 20. Now we need to select the minimum value from the list and consider that k value for our knn regression. \n",
    "\n",
    "For calculating minimum from the list we will use:\n",
    "\n",
    "Numpy: argmin()\n",
    "\n",
    "numpy.argmin(a, axis=None, out=None)\n",
    "\n",
    "Returns the indices of the minimum values along an axis."
   ]
  },
  {
   "cell_type": "code",
   "execution_count": 168,
   "metadata": {},
   "outputs": [
    {
     "name": "stdout",
     "output_type": "stream",
     "text": [
      "Optimal k-value:  1\n"
     ]
    }
   ],
   "source": [
    "#Selecting k value from above list which gives minimum RMSE\n",
    "index_min = np.argmin(errors) +1\n",
    "print('Optimal k-value: ',index_min)"
   ]
  },
  {
   "cell_type": "markdown",
   "metadata": {},
   "source": [
    "Plotting the graph for k when we are getting minimum RMSE. Here k = 1.\n",
    "\n",
    "Plotting graph between actual and predicted values\n",
    "\n",
    "For this scatter graph is used where x-axis represents predicted values and y-axis represents actual values.\n",
    "\n",
    "For plotting this matplotlib is used"
   ]
  },
  {
   "cell_type": "code",
   "execution_count": 169,
   "metadata": {},
   "outputs": [
    {
     "name": "stdout",
     "output_type": "stream",
     "text": [
      "RMSE:  0.06790400670730003\n"
     ]
    },
    {
     "data": {
      "text/plain": [
       "Text(0.5, 0, 'Predicted Values')"
      ]
     },
     "execution_count": 169,
     "metadata": {},
     "output_type": "execute_result"
    },
    {
     "data": {
      "image/png": "[encoded data removed]",
      "text/plain": [
       "<Figure size 432x288 with 1 Axes>"
      ]
     },
     "metadata": {
      "needs_background": "light"
     },
     "output_type": "display_data"
    }
   ],
   "source": [
    "#running knn for optimal k value (k=1)\n",
    "knn_optimal = KNeighborsRegressor(n_neighbors=1)\n",
    "knn_optimal.fit(X_train, y_train)\n",
    "kopt_predicted = knn_optimal.predict(X_train)\n",
    "rmse_kopt= sqrt(mean_squared_error(y_train, kopt_predicted))\n",
    "print('RMSE: ',rmse_kopt)\n",
    "#Plotting scatter graph between actual and predicted values\n",
    "plt.scatter(y_train, kopt_predicted,alpha=0.1)\n",
    "plt.title(\"Comparison between Predicted and Actual Values\")\n",
    "plt.ylabel(\"Actual Values\")\n",
    "plt.xlabel(\"Predicted Values\")\n"
   ]
  },
  {
   "cell_type": "markdown",
   "metadata": {},
   "source": [
    "<b>OBSERVATION:</b>\n",
    "\n",
    "In the above graph, we can easily observe that there is no significant difference between actual and predicted values that's why we are getting low value of RMSE i.e. 0.06790400670730003.\n",
    "\n",
    "\n",
    "-----------------------------------------------------------------------------------------------------------------"
   ]
  },
  {
   "cell_type": "markdown",
   "metadata": {},
   "source": [
    "<h4 align='center'>Decision Tree:</h4>\n",
    "\n",
    "Decision tree builds regression or classification models in the form of a tree structure. It breaks down a dataset into smaller and smaller subsets while at the same time an associated decision tree is incrementally developed. The final result is a tree with decision nodes and leaf nodes.\n",
    "\n",
    "The core algorithm for building decision trees called ID3 which employs a top-down, greedy search through the space of possible branches with no backtracking. The ID3 algorithm can be used to construct a decision tree for regression by replacing Information Gain with Standard Deviation Reduction. \t\n",
    "\n",
    "\n",
    "---------------------------------------------------------------------------------------------------------------\n",
    "\n",
    "(For this task)\n",
    "\n",
    "Steps for Decision Tree Regression:\n",
    "\n",
    "    1. First we need to implement Decision Tree Regression model to training data.\n",
    "\n",
    "    2. Apply to training data\n",
    "\n",
    "    3. Calculate the RMSE\n"
   ]
  },
  {
   "cell_type": "markdown",
   "metadata": {},
   "source": [
    "Step 1: To implement Decision Tree Model, we will use sklearn:\n",
    "\n",
    "sklearn.tree.DecisionTreeRegressor(criterion='mse', splitter='best', max_depth=None, min_samples_split=2, min_samples_leaf=1, min_weight_fraction_leaf=0.0, max_features=None, random_state=None, max_leaf_nodes=None, min_impurity_decrease=0.0, min_impurity_split=None, presort='deprecated', ccp_alpha=0.0)\n",
    "\n",
    "\n",
    "A decision tree regressor.\n"
   ]
  },
  {
   "cell_type": "code",
   "execution_count": 170,
   "metadata": {},
   "outputs": [],
   "source": [
    "#importing sklearn library for Decision Tree Regression\n",
    "from sklearn.tree import DecisionTreeRegressor"
   ]
  },
  {
   "cell_type": "code",
   "execution_count": 171,
   "metadata": {},
   "outputs": [],
   "source": [
    "#creating model\n",
    "tree = DecisionTreeRegressor()"
   ]
  },
  {
   "cell_type": "code",
   "execution_count": 172,
   "metadata": {},
   "outputs": [
    {
     "data": {
      "text/plain": [
       "DecisionTreeRegressor(criterion='mse', max_depth=None, max_features=None,\n",
       "           max_leaf_nodes=None, min_impurity_decrease=0.0,\n",
       "           min_impurity_split=None, min_samples_leaf=1,\n",
       "           min_samples_split=2, min_weight_fraction_leaf=0.0,\n",
       "           presort=False, random_state=None, splitter='best')"
      ]
     },
     "execution_count": 172,
     "metadata": {},
     "output_type": "execute_result"
    }
   ],
   "source": [
    "#Fitting the model\n",
    "tree.fit(X_train, y_train)"
   ]
  },
  {
   "cell_type": "markdown",
   "metadata": {},
   "source": [
    "Step 2: After fitting the data, we need to predict the output.\n",
    "It's already mentioned that we need to predict on the training data only "
   ]
  },
  {
   "cell_type": "code",
   "execution_count": 173,
   "metadata": {},
   "outputs": [],
   "source": [
    "#Predicting with the trained model\n",
    "tree_predicted = tree.predict(X_train)"
   ]
  },
  {
   "cell_type": "markdown",
   "metadata": {},
   "source": [
    "Step 3: Now we need to calculate the RMSE "
   ]
  },
  {
   "cell_type": "code",
   "execution_count": 174,
   "metadata": {},
   "outputs": [],
   "source": [
    "#calculating the RMSE\n",
    "rmse_tree = sqrt(mean_squared_error(y_train, tree_predicted))"
   ]
  },
  {
   "cell_type": "code",
   "execution_count": 175,
   "metadata": {},
   "outputs": [
    {
     "name": "stdout",
     "output_type": "stream",
     "text": [
      "Rmse:  0.048456189158340456\n"
     ]
    }
   ],
   "source": [
    "#displaying value of RMSE for Decision Tree\n",
    "print('Rmse: ',rmse_tree)"
   ]
  },
  {
   "cell_type": "markdown",
   "metadata": {},
   "source": [
    "From the above results we can observed that value of RMSE for decision tree is 0.048456189158340456"
   ]
  },
  {
   "cell_type": "markdown",
   "metadata": {},
   "source": [
    "Plotting graph between actual and predicted values\n",
    "\n",
    "For this scatter graph is used where x-axis represents predicted values and y-axis represents actual values.\n",
    "\n",
    "For plotting this matplotlib is used"
   ]
  },
  {
   "cell_type": "code",
   "execution_count": 176,
   "metadata": {},
   "outputs": [
    {
     "data": {
      "text/plain": [
       "Text(0.5, 0, 'Predicted Values')"
      ]
     },
     "execution_count": 176,
     "metadata": {},
     "output_type": "execute_result"
    },
    {
     "data": {
      "image/png": "[encoded data removed]",
      "text/plain": [
       "<Figure size 432x288 with 1 Axes>"
      ]
     },
     "metadata": {
      "needs_background": "light"
     },
     "output_type": "display_data"
    }
   ],
   "source": [
    "#Plotting scatter graph between actual and predicted values\n",
    "plt.scatter(y_train, tree_predicted,alpha=0.1)\n",
    "plt.title(\"Comparison between Predicted and Actual Values\")\n",
    "plt.ylabel(\"Actual Values\")\n",
    "plt.xlabel(\"Predicted Values\")"
   ]
  },
  {
   "cell_type": "markdown",
   "metadata": {},
   "source": [
    "<b>OBSERVATION:</b>\n",
    "\n",
    "In the above graph, we can easily observe that there is no significant difference between actual and predicted values that's why we are getting low value of RMSE"
   ]
  },
  {
   "cell_type": "markdown",
   "metadata": {},
   "source": [
    "------------------------------------------------------------------------------------------------------------------\n",
    "Now we get the RMSE of three different models. We need to compare the error using graph. So we are using bar plot.\n",
    "\n",
    "For this we used:\n",
    "\n",
    "matplotlib.pyplot.bar(x, height, width=0.8, bottom=None, *, align='center', data=None, kwargs)\n",
    "\n",
    "Make a bar plot.\n",
    "\n",
    "The bars are positioned at x with the given alignment. Their dimensions are given by width and height. The vertical baseline is bottom (default 0).\n",
    "\n",
    "Each of x, height, width, and bottom may either be a scalar applying to all bars, or it may be a sequence of length N providing a separate value for each bar."
   ]
  },
  {
   "cell_type": "code",
   "execution_count": 177,
   "metadata": {},
   "outputs": [
    {
     "data": {
      "image/png": "[encoded data removed]",
      "text/plain": [
       "<Figure size 432x288 with 1 Axes>"
      ]
     },
     "metadata": {
      "needs_background": "light"
     },
     "output_type": "display_data"
    }
   ],
   "source": [
    "#containing the RMSE error of different models  \n",
    "Err = [rmse_ltest, rmse_kopt, rmse_tree]\n",
    "X = [1,2,3]\n",
    "#plotting the bar chart\n",
    "plt.bar(X, Err, tick_label = ['Linear','KNN','Decision Tree'], width = 0.2, color = ['red', 'green','Blue']) \n",
    "plt.xlabel('Models') \n",
    "# naming the y-axis \n",
    "plt.ylabel('RMSE') \n",
    "# plot title \n",
    "plt.title('RMSE Chart') \n",
    "# function to show the plot \n",
    "plt.show() "
   ]
  },
  {
   "cell_type": "markdown",
   "metadata": {},
   "source": [
    "<b>OBSERVATION:</b>\n",
    "\n",
    "From the above graph it can be observed that Linear contain high Rmse  (more than 0.7) then KNN (approx 0.06) then Decision Tree (approx 0.04).\n",
    "\n",
    "<b>How the errors compare?</b>\n",
    "\n",
    "Linear Regression have high value of RMSE because it is having direct relationship with the data. Root Mean Square Error (RMSE) is the standard deviation of the residuals (prediction errors). Residuals are a measure of how far from the regression line data points are; RMSE is a measure of how spread out these residuals are. However, this is not the case with KNN and Decision Tree. So, KNN is better when the data is scaled\n",
    "\n",
    "The k-nearest neighbor algorithm relies on majority voting based on class membership of 'k' nearest samples for a given test point. The nearness of samples is typically based on Euclidean distance. Notice, how without normalization, all the nearest neighbors are aligned in the direction of the axis with the smaller range, i.e. x1 leading to incorrect output. But for Decision Tree we do not need any scaling.\n",
    "\n",
    "There are models that are independent of the feature scale. For example, tree-based algorithms (decision trees and random forests) are not affected. A node of a tree partitions your data into 2 sets by comparing a feature (which splits dataset best) to a threshold value. There's no regularization for the threshold (because one should keep height of the tree small), so it's not affected by different scales.\n",
    "    "
   ]
  },
  {
   "cell_type": "markdown",
   "metadata": {},
   "source": [
    "\n",
    "                                        \n",
    "<h3 align = 'center'>!!!!!!!! TASK 5 !!!!!!!!</h3>\n",
    "<h3 align = 'center'>Cross Validation</h3>"
   ]
  },
  {
   "cell_type": "markdown",
   "metadata": {},
   "source": [
    "<b>Why Cross Validation?</b>\n",
    "\n",
    "This process of deciding whether the numerical results quantifying hypothesized relationships between variables, are acceptable as descriptions of the data, is known as validation. Generally, an error estimation for the model is made after training, better known as evaluation of residuals. In this process, a numerical estimate of the difference in predicted and original responses is done, also called the training error. However, this only gives us an idea about how well our model does on data used to train it. Now its possible that the model is underfitting or overfitting the data. So, the problem with this evaluation technique is that it does not give an indication of how well the learner will generalize to an independent/ unseen data set. Getting this idea about our model is known as Cross Validation."
   ]
  },
  {
   "cell_type": "markdown",
   "metadata": {},
   "source": [
    "\n",
    "\n",
    "<b>K Fold Cross Validation:</b>\n",
    "    \n",
    "In K Fold cross validation, the data is divided into k subsets. Now the holdout method is repeated k times, such that each time, one of the k subsets is used as the test set/ validation set and the other k-1 subsets are put together to form a training set. The error estimation is averaged over all k trials to get total effectiveness of our model. As can be seen, every data point gets to be in a validation set exactly once, and gets to be in a training set k-1 times. This significantly reduces bias as we are using most of the data for fitting, and also significantly reduces variance as most of the data is also being used in validation set. Interchanging the training and test sets also adds to the effectiveness of this method. As a general rule and empirical evidence, K = 5 or 10 is generally preferred, but nothing’s fixed and it can take any value."
   ]
  },
  {
   "cell_type": "markdown",
   "metadata": {},
   "source": [
    "------------------------------------------------------------------------------------------------------------------\n",
    "\n",
    "For performing 10 fold cross validation on each model, we use sklean:\n",
    "\n",
    "sklearn.model_selection.cross_val_score(estimator, X, y=None, groups=None, scoring=None, cv=None, n_jobs=None, verbose=0, fit_params=None, pre_dispatch='2*n_jobs', error_score=nan)\n",
    "\n",
    "Evaluate a score by cross-validation"
   ]
  },
  {
   "cell_type": "code",
   "execution_count": 178,
   "metadata": {},
   "outputs": [],
   "source": [
    "#importing library\n",
    "from sklearn.model_selection import cross_val_score"
   ]
  },
  {
   "cell_type": "markdown",
   "metadata": {},
   "source": [
    "\n",
    "Need to perform cross validation for each model means:\n",
    "    \n",
    "1. Linear Regression\n",
    "\n",
    "2. KNN Regression \n",
    "\n",
    "3. Decision Tree\n",
    "\n",
    "\n",
    "------------------------------------------------------------------------------------------------------------------\n",
    "\n",
    "\n",
    "1. Applying 10 fold cross validation for Linear Regression:"
   ]
  },
  {
   "cell_type": "code",
   "execution_count": 179,
   "metadata": {},
   "outputs": [
    {
     "data": {
      "text/plain": [
       "array([0.27514846, 0.26755866, 0.32957645, 0.26665567, 0.21578278,\n",
       "       0.28745995, 0.28832509, 0.21654243, 0.24047096, 0.2354725 ])"
      ]
     },
     "execution_count": 179,
     "metadata": {},
     "output_type": "execute_result"
    }
   ],
   "source": [
    "#applying 10 fold cross validation and displaying scores\n",
    "linear_scores = cross_val_score(l_model,X_train, y_train, cv=10)\n",
    "linear_scores"
   ]
  },
  {
   "cell_type": "markdown",
   "metadata": {},
   "source": [
    "We have 10 differet values of cross validation. We ca calculate the mean.\n",
    "\n",
    "For calculating the mean, we will use:\n",
    "\n",
    "Pandas: Mean()\n",
    "\n",
    "DataFrame.mean(self, axis=None, skipna=None, level=None, numeric_only=None, kwargs)\n",
    "\n",
    "Return the mean of the values for the requested axis."
   ]
  },
  {
   "cell_type": "code",
   "execution_count": 180,
   "metadata": {},
   "outputs": [
    {
     "name": "stdout",
     "output_type": "stream",
     "text": [
      "Mean:  0.26229929507483735\n"
     ]
    }
   ],
   "source": [
    "#calculating mean\n",
    "print('Mean: ',linear_scores.mean())"
   ]
  },
  {
   "cell_type": "markdown",
   "metadata": {},
   "source": [
    "2. Applying 10 fold cross validation for KNN Regression:"
   ]
  },
  {
   "cell_type": "code",
   "execution_count": 181,
   "metadata": {},
   "outputs": [
    {
     "data": {
      "text/plain": [
       "array([0.20106534, 0.18199194, 0.11325298, 0.15078324, 0.05623767,\n",
       "       0.20081595, 0.13650725, 0.21131154, 0.10676464, 0.20328307])"
      ]
     },
     "execution_count": 181,
     "metadata": {},
     "output_type": "execute_result"
    }
   ],
   "source": [
    "#applying 10 fold cross validation and displaying scores\n",
    "knn_scores = cross_val_score(knn,X_train, y_train, cv=10)\n",
    "knn_scores"
   ]
  },
  {
   "cell_type": "markdown",
   "metadata": {},
   "source": [
    "We have 10 differet values of cross validation. We ca calculate the mean.\n",
    "\n",
    "For calculating the mean, we will use:\n",
    "\n",
    "Pandas: Mean()\n",
    "\n",
    "DataFrame.mean(self, axis=None, skipna=None, level=None, numeric_only=None, kwargs)\n",
    "\n",
    "Return the mean of the values for the requested axis.\n"
   ]
  },
  {
   "cell_type": "code",
   "execution_count": 182,
   "metadata": {},
   "outputs": [
    {
     "name": "stdout",
     "output_type": "stream",
     "text": [
      "Mean:  0.1562013634421648\n"
     ]
    }
   ],
   "source": [
    "#calculating mean\n",
    "print('Mean: ',knn_scores.mean())"
   ]
  },
  {
   "cell_type": "markdown",
   "metadata": {},
   "source": [
    "3. Applying 10 fold cross validation for Decision Tree Regression:"
   ]
  },
  {
   "cell_type": "code",
   "execution_count": 183,
   "metadata": {},
   "outputs": [
    {
     "data": {
      "text/plain": [
       "array([ 0.06980625, -0.098014  ,  0.19451601,  0.06183217, -0.13544153,\n",
       "        0.38095021, -0.20743038, -0.04679922, -0.17122383,  0.08621089])"
      ]
     },
     "execution_count": 183,
     "metadata": {},
     "output_type": "execute_result"
    }
   ],
   "source": [
    "#applying 10 fold cross validation and displaying scores\n",
    "tree_scores = cross_val_score(tree,X_train, y_train,cv=10)\n",
    "tree_scores"
   ]
  },
  {
   "cell_type": "markdown",
   "metadata": {},
   "source": [
    "We have 10 differet values of cross validation. We ca calculate the mean.\n",
    "\n",
    "For calculating the mean, we will use:\n",
    "\n",
    "Pandas: Mean()\n",
    "\n",
    "DataFrame.mean(self, axis=None, skipna=None, level=None, numeric_only=None, kwargs)\n",
    "\n",
    "Return the mean of the values for the requested axis.\n"
   ]
  },
  {
   "cell_type": "code",
   "execution_count": 184,
   "metadata": {},
   "outputs": [
    {
     "name": "stdout",
     "output_type": "stream",
     "text": [
      "Mean:  0.013440658747904594\n"
     ]
    }
   ],
   "source": [
    "#calculating mean\n",
    "print('Mean: ',tree_scores.mean())"
   ]
  },
  {
   "cell_type": "markdown",
   "metadata": {},
   "source": [
    "\n",
    "<b>OBSERVATION:</b>\n",
    "    \n",
    "    \n",
    "From the above all scores it can be seen that mean of cross validation scores as follows:\n",
    "\n",
    "Linear Regression: 0.26229929507483735\n",
    "\n",
    "KNN Regression: 0.1562013634421648\n",
    "\n",
    "Decision Tree Regression: -0.0011622065002475424\n",
    "    \n",
    "We can observe that maximum value is of Linear Regression and minimum value is for Decision Tree Regression. \n",
    "\n",
    "From these observations and coamparing it with the model errors we can state that Decision Tree is overfitting the data and Knn also overfitting the data to some extent. Linear Regression is not overfitting the data.\n",
    "\n",
    "Overfitting happens when a model learns the detail and noise in the training data to the extent that it negatively impacts the performance of the model on new data. This means that the noise or random fluctuations in the training data is picked up and learned as concepts by the model. The problem is that these concepts do not apply to new data and negatively impact the models ability to generalize.\n",
    "\n",
    "We are getting negative value in Decision Tree Regression because:\n",
    "    \n",
    "\n",
    "Supposedly, larger the log loss (+ve), the better the regressor should be. So, a more negative the value, the better the regressor if the cross-value scorer is neg log loss.\n",
    "\n",
    "A more negative value is farther from zero and has negative sign, so it is smaller.\n",
    "\n",
    "A larger negative value is closer to zero. So, Decision Tree overfitting the data"
   ]
  },
  {
   "cell_type": "markdown",
   "metadata": {},
   "source": [
    "------------------------------------------------------------------------------------------------------------------\n",
    "\n",
    "Now we want to perform simple analysis of the error values obtained for each model:\n",
    "\n",
    "(Its given that we need to use previous task)\n",
    "\n",
    "1. Calculate the Mean Square Error\n",
    "\n",
    "2. Calculate the Median Absolute Error\n",
    "\n",
    "3. Calculate Explained Variance\n",
    "\n",
    "4. Calculating R2 Score\n",
    "\n",
    "5. Calculating Mean Square Log Error\n",
    "\n",
    "We will perform analysis on the above five parameters and at the last we come up with the common conlusion.\n",
    "\n"
   ]
  },
  {
   "cell_type": "markdown",
   "metadata": {},
   "source": [
    "------------------------------------------------------------------------------------------------------------------\n",
    "1. For Calculating Mean Square Error, we will use sklearn: \n",
    "\n",
    "    \n",
    "sklearn.metrics.mean_squared_error(y_true, y_pred, sample_weight=None, multioutput='uniform_average', squared=True)\n",
    "Mean squared error regression loss"
   ]
  },
  {
   "cell_type": "markdown",
   "metadata": {},
   "source": [
    "A. Mean square error for Linear Regression \n"
   ]
  },
  {
   "cell_type": "code",
   "execution_count": 185,
   "metadata": {},
   "outputs": [
    {
     "name": "stdout",
     "output_type": "stream",
     "text": [
      "MSE:  0.5669548535650631\n"
     ]
    }
   ],
   "source": [
    "#MSE for Linear Regression \n",
    "print('MSE: ', mean_squared_error(l_predicted,y_train))"
   ]
  },
  {
   "cell_type": "markdown",
   "metadata": {},
   "source": [
    "B. Mean square error for KNN Regression"
   ]
  },
  {
   "cell_type": "code",
   "execution_count": 186,
   "metadata": {},
   "outputs": [
    {
     "name": "stdout",
     "output_type": "stream",
     "text": [
      "MSE:  0.004610954126905048\n"
     ]
    }
   ],
   "source": [
    "#MSE for KNN Regression\n",
    "print('MSE: ',mean_squared_error(y_train, kopt_predicted))"
   ]
  },
  {
   "cell_type": "markdown",
   "metadata": {},
   "source": [
    "C. Mean Square error for Decision Tree"
   ]
  },
  {
   "cell_type": "code",
   "execution_count": 187,
   "metadata": {},
   "outputs": [
    {
     "name": "stdout",
     "output_type": "stream",
     "text": [
      "MSE:  0.0023480022677488713\n"
     ]
    }
   ],
   "source": [
    "#MSE for Decision Tree Regression\n",
    "print('MSE: ',mean_squared_error(y_train, tree_predicted))"
   ]
  },
  {
   "cell_type": "markdown",
   "metadata": {},
   "source": [
    "<b>OBSERVATION and SIGNIFICANCE:</b>\n",
    "\n",
    "\n",
    "The mean squared error tells you how close a regression line is to a set of points. It does this by taking the distances from the points to the regression line (these distances are the “errors”) and squaring them. The squaring is necessary to remove any negative signs. It also gives more weight to larger differences. It’s called the mean squared error as you’re finding the average of a set of errors.\n",
    "\n",
    "We have calculated MSE for each model used above. \n",
    "1. Linear Regression: 0.5669548535650631\n",
    "\n",
    "2. KNN Regressionn: 0.004610954126905048\n",
    "\n",
    "3. Decision Tree: 0.0023480022677488713\n",
    "\n",
    "From these values, we can observe that Linear Regression is much closer to points as compared to KNN and Decision tree. "
   ]
  },
  {
   "cell_type": "markdown",
   "metadata": {},
   "source": [
    "-----------------------------------------------------------------------------------------------------------------\n",
    "\n",
    "2. For calculating Median Absolute Error, we use:\n",
    "    \n",
    "sklearn.metrics.median_absolute_error(y_true, y_pred, multioutput='uniform_average')\n",
    "\n",
    "Median absolute error regression loss\n",
    "\n",
    "Median absolute error output is non-negative floating point. The best value is 0.0. \n",
    "\n"
   ]
  },
  {
   "cell_type": "code",
   "execution_count": 188,
   "metadata": {},
   "outputs": [],
   "source": [
    "#importing Library\n",
    "from sklearn.metrics import median_absolute_error"
   ]
  },
  {
   "cell_type": "markdown",
   "metadata": {},
   "source": [
    "A. Median Absolute Error for Linear Regression \n"
   ]
  },
  {
   "cell_type": "code",
   "execution_count": 189,
   "metadata": {},
   "outputs": [
    {
     "name": "stdout",
     "output_type": "stream",
     "text": [
      "Median Absolute Error:  0.480172988677225\n"
     ]
    }
   ],
   "source": [
    "#Median Absolute Error for Linear Regression \n",
    "print('Median Absolute Error: ',median_absolute_error(l_predicted,y_train))"
   ]
  },
  {
   "cell_type": "markdown",
   "metadata": {},
   "source": [
    "B. Median absolute error for KNN Regression "
   ]
  },
  {
   "cell_type": "code",
   "execution_count": 190,
   "metadata": {},
   "outputs": [
    {
     "name": "stdout",
     "output_type": "stream",
     "text": [
      "Median Absolute Error:  0.0\n"
     ]
    }
   ],
   "source": [
    "#Median Absolute Error for KNN Regression\n",
    "print('Median Absolute Error: ',median_absolute_error(kopt_predicted,y_train))"
   ]
  },
  {
   "cell_type": "markdown",
   "metadata": {},
   "source": [
    "C. Median Absolute Error for Decision Tree"
   ]
  },
  {
   "cell_type": "code",
   "execution_count": 191,
   "metadata": {},
   "outputs": [
    {
     "name": "stdout",
     "output_type": "stream",
     "text": [
      "Median Absolute Error:  0.0\n"
     ]
    }
   ],
   "source": [
    "#Median Absolute Error for Decision Tree Regression\n",
    "print('Median Absolute Error: ',median_absolute_error(tree_predicted,y_train))"
   ]
  },
  {
   "cell_type": "markdown",
   "metadata": {},
   "source": [
    "<b>OBSERVATION and SIGNIFICANCE:</b>\n",
    "\n",
    "A measure of  median absolute error determines the ‘middle’ degree of variation between an outputs and the corresponding benchmarks. To calculate this metric, take the absolute value of the percentage error (i.e., the magnitude or size of the variance) instead of distinguishing between positive and negative error.\n",
    "    \n",
    "We have calculated Median Absolute Error for each model used above.\n",
    "\n",
    "Linear Regression: 0.480172988677225\n",
    "\n",
    "KNN Regressionn: 0.0\n",
    "\n",
    "Decision Tree: 0.0\n",
    "\n",
    "For KNN and Decision tree: MBE can convey useful information, but should be interpreted cautiously because positive and negative errors will cancel out.\n",
    "   "
   ]
  },
  {
   "cell_type": "markdown",
   "metadata": {},
   "source": [
    "----------------------------------------------------------------------------------------------------------------\n",
    "\n",
    "3. For Calculating explained variance, we use:\n",
    "\n",
    "sklearn.metrics.explained_variance_score(y_true, y_pred, sample_weight=None, multioutput='uniform_average')\n",
    "\n",
    "Explained variance regression score function\n",
    "\n",
    "Best possible score is 1.0, lower values are worse."
   ]
  },
  {
   "cell_type": "code",
   "execution_count": 192,
   "metadata": {},
   "outputs": [],
   "source": [
    "#importing library\n",
    "from sklearn.metrics import explained_variance_score"
   ]
  },
  {
   "cell_type": "markdown",
   "metadata": {},
   "source": [
    "A. Calculating for Linear Regression "
   ]
  },
  {
   "cell_type": "code",
   "execution_count": 193,
   "metadata": {},
   "outputs": [
    {
     "name": "stdout",
     "output_type": "stream",
     "text": [
      "Variance Score:  0.27161480352277134\n"
     ]
    }
   ],
   "source": [
    "#calculating varaince score \n",
    "print('Variance Score: ',explained_variance_score(y_train, l_predicted, multioutput='uniform_average'))"
   ]
  },
  {
   "cell_type": "markdown",
   "metadata": {},
   "source": [
    "B. Calculating for KNN Regression "
   ]
  },
  {
   "cell_type": "code",
   "execution_count": 194,
   "metadata": {},
   "outputs": [
    {
     "name": "stdout",
     "output_type": "stream",
     "text": [
      "Variance Score:  0.9940762228591862\n"
     ]
    }
   ],
   "source": [
    "#calculating varaince score \n",
    "print('Variance Score: ',explained_variance_score(y_train, kopt_predicted, multioutput='uniform_average'))"
   ]
  },
  {
   "cell_type": "markdown",
   "metadata": {},
   "source": [
    "C. Calculating for Decision Tree"
   ]
  },
  {
   "cell_type": "code",
   "execution_count": 195,
   "metadata": {},
   "outputs": [
    {
     "name": "stdout",
     "output_type": "stream",
     "text": [
      "Variance Score:  0.9969834457146473\n"
     ]
    }
   ],
   "source": [
    "#calculating varaince score \n",
    "print('Variance Score: ',explained_variance_score(y_train, tree_predicted, multioutput='uniform_average'))"
   ]
  },
  {
   "cell_type": "markdown",
   "metadata": {},
   "source": [
    "<b>OBSERVATION and SIGNIFICANCE:</b>\n",
    "\n",
    "\n",
    "Explained variance (also called explained variation) is used to measure the discrepancy between a model and actual data. It’s the part of the model’s total variance that is explained by factors that are actually present and isn’t due to error variance.\n",
    "\n",
    "Higher percentages of explained variance indicates a stronger strength of association. It also means that you make better predictions \n",
    "\n",
    "We have calculated variance score for each model, \n",
    "\n",
    "Linear Regression: 0.27161480352277134\n",
    "\n",
    "KNN Regression: 0.9940762228591862\n",
    "    \n",
    "Decision Tree: 0.9969834457146473\n",
    "    \n",
    "KNN and Decision Tree have the high values that means they are showing the stronger strength of assocition as compared to Linear Regression. \n",
    "    "
   ]
  },
  {
   "cell_type": "markdown",
   "metadata": {},
   "source": [
    "-----------------------------------------------------------------------------------------------------------------\n",
    "\n",
    "4. Calculating R2 Score\n",
    "\n",
    "sklearn.metrics.r2_score(y_true, y_pred, sample_weight=None, multioutput='uniform_average')\n",
    "\n",
    "R^2 (coefficient of determination) regression score function.\n",
    "\n",
    "Best possible score is 1.0 and it can be negative (because the model can be arbitrarily worse). A constant model that always predicts the expected value of y, disregarding the input features, would get a R^2 score of 0.0."
   ]
  },
  {
   "cell_type": "code",
   "execution_count": 196,
   "metadata": {},
   "outputs": [],
   "source": [
    "#importing library\n",
    "from sklearn.metrics import r2_score"
   ]
  },
  {
   "cell_type": "markdown",
   "metadata": {},
   "source": [
    "A. Calculating for Linear Regression"
   ]
  },
  {
   "cell_type": "code",
   "execution_count": 197,
   "metadata": {},
   "outputs": [
    {
     "name": "stdout",
     "output_type": "stream",
     "text": [
      "R2 Score:  0.27161480352277123\n"
     ]
    }
   ],
   "source": [
    "#Calculating R2 Score\n",
    "print('R2 Score: ',r2_score(y_train, l_predicted))"
   ]
  },
  {
   "cell_type": "markdown",
   "metadata": {},
   "source": [
    "B. Calculating for KNN Regression"
   ]
  },
  {
   "cell_type": "code",
   "execution_count": 198,
   "metadata": {},
   "outputs": [
    {
     "name": "stdout",
     "output_type": "stream",
     "text": [
      "R2 Score:  0.9940761584338605\n"
     ]
    }
   ],
   "source": [
    "#Calculating R2 Score\n",
    "print('R2 Score: ',r2_score(y_train, kopt_predicted))"
   ]
  },
  {
   "cell_type": "markdown",
   "metadata": {},
   "source": [
    "C. Calculating for Decision Tree"
   ]
  },
  {
   "cell_type": "code",
   "execution_count": 199,
   "metadata": {},
   "outputs": [
    {
     "name": "stdout",
     "output_type": "stream",
     "text": [
      "R2 Score:  0.9969834457146473\n"
     ]
    }
   ],
   "source": [
    "#Calculating R2 Score\n",
    "print('R2 Score: ',r2_score(y_train, tree_predicted))"
   ]
  },
  {
   "cell_type": "markdown",
   "metadata": {},
   "source": [
    "<b>OBSERVATION and SIGNIFICANCE:</b>\n",
    "\n",
    "R-squared is a statistical measure of how close the data are to the fitted regression line. It is also known as the coefficient of determination, or the coefficient of multiple determination for multiple regression. 0% indicates that the model explains none of the variability of the response data around its mean.\n",
    "\n",
    "We have calculated R2 score for each model,\n",
    "\n",
    "Linear Regression: 0.27161480352277123\n",
    "\n",
    "KNN Regression: 0.9940761584338605\n",
    "\n",
    "Decision Tree: 0.9969834457146473\n",
    "\n",
    "\n",
    "It shows the KNN and Decision tree are more fitted towards the data as comapred to linear regression.\n"
   ]
  },
  {
   "cell_type": "markdown",
   "metadata": {},
   "source": [
    "-----------------------------------------------------------------------------------------------------------------\n",
    "5. Calculating Mean Square Log Error, we use:\n",
    "\n",
    "sklearn.metrics.mean_squared_log_error(y_true, y_pred, sample_weight=None, multioutput='uniform_average')\n",
    "\n",
    "Mean squared logarithmic error regression loss"
   ]
  },
  {
   "cell_type": "code",
   "execution_count": 200,
   "metadata": {},
   "outputs": [],
   "source": [
    "#importing library\n",
    "from sklearn.metrics import mean_squared_log_error"
   ]
  },
  {
   "cell_type": "markdown",
   "metadata": {},
   "source": [
    "A. Calculating for Linear Regression"
   ]
  },
  {
   "cell_type": "code",
   "execution_count": 201,
   "metadata": {},
   "outputs": [
    {
     "name": "stdout",
     "output_type": "stream",
     "text": [
      "Mean Square Log Error:  0.012470585906566063\n"
     ]
    }
   ],
   "source": [
    "#Calculating mean square log error\n",
    "print('Mean Square Log Error: ',mean_squared_log_error(y_train, l_predicted))"
   ]
  },
  {
   "cell_type": "markdown",
   "metadata": {},
   "source": [
    "B. Calculating for KNN Regression"
   ]
  },
  {
   "cell_type": "code",
   "execution_count": 202,
   "metadata": {},
   "outputs": [
    {
     "name": "stdout",
     "output_type": "stream",
     "text": [
      "Mean Square Log Error:  9.454718725118687e-05\n"
     ]
    }
   ],
   "source": [
    "#Calculating mean square log error\n",
    "print('Mean Square Log Error: ',mean_squared_log_error(y_train, kopt_predicted))"
   ]
  },
  {
   "cell_type": "markdown",
   "metadata": {},
   "source": [
    "C. Calculating for Decision Tree"
   ]
  },
  {
   "cell_type": "code",
   "execution_count": 203,
   "metadata": {},
   "outputs": [
    {
     "name": "stdout",
     "output_type": "stream",
     "text": [
      "Mean Square Log Error:  4.840158414986169e-05\n"
     ]
    }
   ],
   "source": [
    "#Calculating mean square log error\n",
    "print('Mean Square Log Error: ',mean_squared_log_error(y_train, tree_predicted))"
   ]
  },
  {
   "cell_type": "markdown",
   "metadata": {},
   "source": [
    "<b>OBSERVATION and SIGNIFICANCE:</b>\n",
    "\n",
    "Mean squared logarithmic error (MSLE) can be interpreted as a measure of the ratio between the true and predicted values. Mean squared logarithmic error is, as the name suggests, a variation of the Mean Squared Error.\n",
    "\n",
    "We have caclculated Mean squre log error for each model:\n",
    "\n",
    "Linear Regresison: 0.012470585906566063\n",
    "\n",
    "KNN Regression: 9.454718725118687e-05\n",
    "\n",
    "Decision Tree Regression: 4.840158414986169e-05\n",
    "\n",
    "KNN and Decision tree have very low ratio between the true and predicted values as comapred to Linear Regression.\n",
    "\n"
   ]
  },
  {
   "cell_type": "markdown",
   "metadata": {},
   "source": [
    "\n",
    "\n",
    "\n",
    "<b>GENERAL OUTCOME:</b>\n",
    "\n",
    "From all the data analysis and cross-validation performed above, we can easily conclude that every time Decision Tree is overfitting the data and Knn is also overfitting the data to some extent. So for this dataset Linear Regression is better model for prediction."
   ]
  },
  {
   "cell_type": "markdown",
   "metadata": {},
   "source": [
    "\n",
    "                                        \n",
    "<h3 align = 'center'>!!!!!!!! TASK 6 !!!!!!!!</h3>\n",
    "<h3 align = 'center'>Free Choice</h3>"
   ]
  },
  {
   "cell_type": "markdown",
   "metadata": {},
   "source": [
    "In this task we need to improve the performance of your best predictor so far in one of the mentioned ways. \n",
    "\n",
    "We try to use a different prediction model for achieving this.\n",
    "\n",
    "We will use Random forest regressor as the new prediction model for quality.\n",
    "\n"
   ]
  },
  {
   "cell_type": "markdown",
   "metadata": {},
   "source": [
    "<h4 align='center'>Random Forest Regressor:</h4>\n",
    "\n",
    "A Random Forest is an ensemble technique capable of performing both regression and classification tasks with the use of multiple decision trees and a technique called Bootstrap Aggregation, commonly known as bagging. \n",
    "Bagging, in the Random Forest method, involves training each decision tree on a different data sample where sampling is done with replacement.\n",
    "\n",
    "\n",
    "For implementing Random Forest Regressor, we will use sklearn and for selecting the best parameter for Random search we will use Grid Search, which will tell the best parameter values to best fit the model in data.\n",
    "\n",
    "\n"
   ]
  },
  {
   "cell_type": "code",
   "execution_count": 204,
   "metadata": {},
   "outputs": [],
   "source": [
    "#importing libraries\n",
    "from sklearn.model_selection import cross_val_score, GridSearchCV\n",
    "from sklearn.ensemble import RandomForestRegressor"
   ]
  },
  {
   "cell_type": "markdown",
   "metadata": {},
   "source": [
    "<b>Concept of Grid Search:</b>\n",
    "\n",
    "When we need to tune the hyperparameter, we will use grid search. GridSearchCV exhaustively considers all parameter combinations. While RandomizedSearchCV can sample a given number of candidates from a parameter space with a specified distribution. \n",
    "\n",
    "Random search allowed us to narrow down the range for each hyperparameter. (We are ignoring this part here)\n",
    "\n",
    "We are only considering GridSearchCV using sklearn.\n",
    "\n",
    "sklearn.model_selection.GridSearchCV(estimator, param_grid, scoring=None, n_jobs=None, iid='deprecated', refit=True, cv=None, verbose=0, pre_dispatch='2*n_jobs', error_score=nan, return_train_score=False)\n",
    "\n",
    "Exhaustive search over specified parameter values for an estimator.\n",
    "\n",
    "Important members are fit, predict.\n",
    "\n",
    "GridSearchCV implements a “fit” and a “score” method. It also implements “predict”, “predict_proba”, “decision_function”, “transform” and “inverse_transform” if they are implemented in the estimator used.\n",
    "\n",
    "The parameters of the estimator used to apply these methods are optimized by cross-validated grid-search over a parameter grid.\n",
    "\n",
    "Taking few values of parameters in param_grid and these all the parameters of RandomForest. So, grid search will apply every combination of parameter and will give the best possible combination of parameters.\n"
   ]
  },
  {
   "cell_type": "code",
   "execution_count": 205,
   "metadata": {},
   "outputs": [],
   "source": [
    "# Create the parameter grid based on the results of random search \n",
    "from sklearn.model_selection import GridSearchCV\n",
    "# Create a based model\n",
    "param_grid = {\n",
    "    'bootstrap': [True],\n",
    "    'max_depth': [80, 90, 100, 110],\n",
    "    'max_features': [2, 3],\n",
    "    'min_samples_leaf': [3, 4, 5],\n",
    "    'min_samples_split': [8, 10, 12],\n",
    "    'n_estimators': [100, 200, 300, 1000]\n",
    "}\n",
    "# Instantiate the grid search model\n",
    "rf = RandomForestRegressor()\n",
    "grid_search = GridSearchCV(estimator = rf, param_grid = param_grid, cv = 3, n_jobs = -1, verbose = 2)"
   ]
  },
  {
   "cell_type": "code",
   "execution_count": 206,
   "metadata": {},
   "outputs": [
    {
     "name": "stdout",
     "output_type": "stream",
     "text": [
      "Fitting 3 folds for each of 288 candidates, totalling 864 fits\n"
     ]
    },
    {
     "name": "stderr",
     "output_type": "stream",
     "text": [
      "[Parallel(n_jobs=-1)]: Using backend LokyBackend with 4 concurrent workers.\n",
      "[Parallel(n_jobs=-1)]: Done  33 tasks      | elapsed:   16.4s\n",
      "[Parallel(n_jobs=-1)]: Done 154 tasks      | elapsed:  1.5min\n",
      "[Parallel(n_jobs=-1)]: Done 357 tasks      | elapsed:  3.4min\n",
      "[Parallel(n_jobs=-1)]: Done 640 tasks      | elapsed:  6.3min\n",
      "[Parallel(n_jobs=-1)]: Done 864 out of 864 | elapsed:  8.5min finished\n"
     ]
    }
   ],
   "source": [
    "# Fit the grid search to the data\n",
    "grid_search.fit(X_train, y_train)\n",
    "grid_search.best_params_\n",
    "\n",
    "{'bootstrap': True,\n",
    " 'max_depth': 80,\n",
    " 'max_features': 3,\n",
    " 'min_samples_leaf': 5,\n",
    " 'min_samples_split': 12,\n",
    " 'n_estimators': 100}\n",
    "best_grid = grid_search.best_estimator_"
   ]
  },
  {
   "cell_type": "code",
   "execution_count": 207,
   "metadata": {},
   "outputs": [
    {
     "data": {
      "text/plain": [
       "RandomForestRegressor(bootstrap=True, criterion='mse', max_depth=80,\n",
       "           max_features=3, max_leaf_nodes=None, min_impurity_decrease=0.0,\n",
       "           min_impurity_split=None, min_samples_leaf=3,\n",
       "           min_samples_split=8, min_weight_fraction_leaf=0.0,\n",
       "           n_estimators=1000, n_jobs=None, oob_score=False,\n",
       "           random_state=None, verbose=0, warm_start=False)"
      ]
     },
     "execution_count": 207,
     "metadata": {},
     "output_type": "execute_result"
    }
   ],
   "source": [
    "#displaying best fit values of parameters for Random Forest\n",
    "best_grid"
   ]
  },
  {
   "cell_type": "code",
   "execution_count": 208,
   "metadata": {},
   "outputs": [],
   "source": [
    "#defining evaluate function to calculate accuracy\n",
    "def evaluate(model, test_features, test_labels):\n",
    "    predictions = model.predict(test_features)\n",
    "    errors = abs(predictions - test_labels)\n",
    "    rms = sqrt(mean_squared_error(predictions,test_labels))\n",
    "    mape = 100 * np.mean(errors / test_labels)\n",
    "    accuracy = 100 - mape\n",
    "    print('Model Performance')\n",
    "    print('Average Error: {:0.4f} .'.format(np.mean(errors)))\n",
    "    print('RMS: {:0.4f} .'.format(np.mean(rms)))\n",
    "    print('Accuracy = {:0.2f}%.'.format(accuracy))\n",
    "    return accuracy"
   ]
  },
  {
   "cell_type": "code",
   "execution_count": 209,
   "metadata": {},
   "outputs": [
    {
     "name": "stdout",
     "output_type": "stream",
     "text": [
      "Model Performance\n",
      "Average Error: 0.2975 .\n",
      "RMS: 0.4079 .\n",
      "Accuracy = 94.68%.\n"
     ]
    }
   ],
   "source": [
    "grid_accuracy = evaluate(best_grid, X_train, y_train)"
   ]
  },
  {
   "cell_type": "markdown",
   "metadata": {},
   "source": [
    "<b>OBSERVATION:</b>\n",
    "    \n",
    "When we are testing our Random forest model with grid search on the training dataset we are getting 94.66% accuracy.\n",
    "This accuracy is better than all the revious models.\n",
    "\n",
    "So, we will use this model to predict the output of Test sets. \n",
    "\n",
    "------------------------------------------------------------------------------------------------------------------\n",
    "\n",
    "But before conitnuing...\n",
    "\n",
    "<b>Why Randomforest  Regressor is better than previously discussed models??</b>\n",
    "\n",
    "The random forest is a model made up of many decision trees. Rather than just simply averaging the prediction of trees (which we could call a “forest”), this model uses two key concepts that gives it the name random:\n",
    "Random sampling of training data points when building trees\n",
    "Random subsets of features considered when splitting nodes\n",
    "Decision trees have high probability of overfitting the data as compared to rendom forest. The random forest combines hundreds or thousands of decision trees, trains each one on a slightly different set of the observations, splitting nodes in each tree considering a limited number of the features. The final predictions of the random forest are made by averaging the predictions of each individual tree.\n",
    "\n",
    "On the top of this, we have used grid search. In the previous models defined in previous task we have not done tuning of parameters (except in KNN where we used elbow method). By grid search we are selecting best optimal values of parameters so we get the best accuracy from the model. \n",
    "\n",
    "So, as compared to all the models used in this assignment RandomForest Regressor proves to be the best model on the basis of accuracy and parameters selection. "
   ]
  },
  {
   "cell_type": "markdown",
   "metadata": {},
   "source": [
    "------------------------------------------------------------------------------------------------------------------\n",
    "Now applying our new prediction model of RandomForest on Test dataset."
   ]
  },
  {
   "cell_type": "code",
   "execution_count": 210,
   "metadata": {},
   "outputs": [],
   "source": [
    "#applying RandomForest using grid search on Test Set\n",
    "test_predict = best_grid.predict(X_test)"
   ]
  },
  {
   "cell_type": "code",
   "execution_count": 211,
   "metadata": {},
   "outputs": [
    {
     "data": {
      "text/plain": [
       "array([5.94999858, 5.29124193, 5.9140696 , 5.15123315, 6.37047573,\n",
       "       6.37288067, 5.37729693, 6.26036222, 6.42753441, 5.97556599,\n",
       "       5.35162923, 5.63686204, 6.23183745, 5.99432904, 5.97823622,\n",
       "       6.70741225, 5.4158618 , 6.2736989 , 6.0616022 , 6.11071062,\n",
       "       5.46623607, 5.28485124, 5.9016024 , 5.89970837, 5.35221029,\n",
       "       5.58168266, 5.04417371, 5.09964057, 5.23204027, 6.76284476,\n",
       "       6.29523011, 6.077856  , 5.92767324, 6.20827149, 5.47827515,\n",
       "       5.64617186, 6.49012325, 5.57529845, 5.66587182, 5.3929905 ,\n",
       "       5.86125601, 5.46178996, 5.83837064, 6.88816338, 6.57166516,\n",
       "       6.03501028, 5.78018553, 6.16094823, 5.471514  , 6.85032481,\n",
       "       5.16700769, 5.84739056, 6.8931392 , 6.62455908, 5.70468809,\n",
       "       4.82503542, 5.90985571, 4.91167813, 5.4935022 , 5.34428685,\n",
       "       5.72974616, 6.27725456, 6.64908312, 6.46366064, 5.90164342,\n",
       "       5.63300549, 6.36370356, 6.75997279, 5.30471949, 6.12972621,\n",
       "       4.88304212, 5.74652257, 4.83486541, 6.90292398, 6.74695545,\n",
       "       5.50604707, 5.4513043 , 5.25721677, 5.87187374, 6.11245409,\n",
       "       5.29401839, 5.79688492, 6.16953485, 7.17624352, 5.40266153,\n",
       "       7.10452995, 6.04646304, 5.18198024, 5.84691642, 5.60610596,\n",
       "       4.95089785, 4.98503694, 5.98852227, 5.18092756, 5.42573447,\n",
       "       6.03696764, 5.67304323, 5.86160219, 6.03163376, 6.30628646,\n",
       "       5.3106481 , 6.0151236 , 4.97169017, 5.40698749, 6.16019908,\n",
       "       6.7769093 , 6.58905341, 5.37980424, 5.51186856, 5.63163226,\n",
       "       5.36402636, 5.7543483 , 5.48716081, 6.16723354, 6.90292398,\n",
       "       6.17176854, 6.60602023, 5.73026369, 6.25155064, 6.38061471,\n",
       "       4.78890555, 6.26123816, 6.06099906, 5.9811855 , 5.29215474,\n",
       "       5.66022174, 6.16727023, 5.20649492, 6.57747973, 5.25245187,\n",
       "       6.20042765, 6.87604249, 6.40579577, 5.93308983, 6.75139699,\n",
       "       5.06036103, 6.23927606, 5.62589985, 5.8238951 , 6.9920758 ,\n",
       "       6.17201023, 4.87135137, 5.75748111, 5.14187353, 6.05808685,\n",
       "       5.05494806, 5.78424067, 6.26894274, 6.60572738, 6.8408872 ,\n",
       "       5.40850031, 5.5259333 , 5.33814579, 5.66933952, 6.31274328,\n",
       "       5.93214006, 5.11057926, 5.12165266, 5.85505464, 6.09384414,\n",
       "       6.02146503, 5.87187374, 6.45680098, 5.88212448, 5.63851425,\n",
       "       5.08392526, 5.94373297, 5.96200889, 6.30660847, 5.93793553,\n",
       "       5.32614157, 5.3270492 , 6.27536225, 6.80209194, 5.78473497,\n",
       "       5.53934676, 5.50308018, 5.11886912, 5.4849591 , 5.78847887,\n",
       "       6.04298248, 5.10160451, 5.88581442, 5.46588783, 6.89275369,\n",
       "       5.26182705, 6.61686199, 5.54687414, 5.44544004, 6.40215425,\n",
       "       6.46974292, 5.46623123, 5.91654011, 5.98593537, 4.86172298,\n",
       "       6.15857639, 5.42650624, 6.23337336, 5.80050148, 5.5405203 ,\n",
       "       6.43141848, 5.94351753, 6.85032481, 5.58878542, 6.09147201,\n",
       "       5.65835794, 6.42753441, 5.9746812 , 5.44639339, 5.60853206,\n",
       "       5.98200782, 6.1701977 , 5.91730563, 5.19362238, 5.35539042,\n",
       "       7.84668014, 5.53596567, 5.42214887, 5.24069548, 6.08870473,\n",
       "       4.95237266, 5.62166435, 5.12429747, 5.03322381, 6.06227874,\n",
       "       5.79833282, 5.55210693, 5.92159447, 6.19570652, 6.82800922,\n",
       "       5.67489209, 5.63231678, 5.53295463, 6.50048501, 5.15267869,\n",
       "       5.80406754, 5.81578358, 6.25758264, 6.15876539, 6.60236928,\n",
       "       5.70105466, 5.82807923, 5.05103766, 5.96359778, 5.59505803,\n",
       "       5.05838436, 5.4637775 , 6.68439903, 6.15174534, 5.68683613,\n",
       "       5.34756234, 5.81436079, 5.18114362, 5.26421237, 5.63807457,\n",
       "       5.93643147, 5.84301451, 6.34260158, 6.53265031, 5.42409353,\n",
       "       6.57116649, 6.55029958, 5.71393527, 6.17905472, 6.03001881,\n",
       "       6.15336378, 5.94351753, 5.66386045, 6.26312091, 4.90877523,\n",
       "       5.55834643, 5.45080205, 6.81839783, 5.90519438, 5.86788746,\n",
       "       5.96200209, 5.91203919, 5.46620418, 6.21662435, 4.99653932,\n",
       "       5.57523891, 6.44561901, 7.84668014, 5.51699379, 5.7289508 ,\n",
       "       5.16614096, 5.55624942, 5.09685978, 6.15648625, 5.06995121,\n",
       "       6.85013546, 5.9990715 , 6.08262519, 5.01172625, 5.78106904,\n",
       "       5.3709569 , 5.49085444, 5.77351802, 6.04589059, 5.94744041,\n",
       "       6.96832888, 5.76892619, 6.03009855, 5.9983917 , 6.28840864,\n",
       "       6.79927196, 5.92740143, 6.06184229, 5.42085886, 5.43801698,\n",
       "       5.40522298, 5.7335705 , 5.56225158, 6.141077  , 5.1118168 ,\n",
       "       5.33710814, 5.30537209, 5.42345147, 6.09234306, 5.29111879,\n",
       "       5.52753647, 5.97723936, 5.92136517, 5.48366258, 5.14013015,\n",
       "       5.81540018, 5.52249537, 6.01297595, 5.95709526, 5.23628699,\n",
       "       5.09153399, 5.64916528, 6.71360849, 5.43188789, 5.22598287,\n",
       "       6.47733497, 6.29304765, 6.89478055, 6.06633065, 6.05697348,\n",
       "       5.14727853, 5.7886665 , 5.96838541, 6.23798078, 5.29548561,\n",
       "       5.59061424, 5.16476098, 5.51215033, 6.40824476, 5.85044332,\n",
       "       6.86366456, 6.20232133, 6.57218679, 5.39349445, 6.00375273,\n",
       "       5.39963473, 5.42342516, 5.2637645 , 5.70149383, 6.23050334,\n",
       "       5.51582101, 5.42252068, 6.03009855, 5.46588391, 5.80239405,\n",
       "       6.08257661, 5.03797216, 5.89117459, 5.7335705 , 5.69331103,\n",
       "       6.19487771, 5.62167009, 6.5050087 , 5.47594319, 6.44302106,\n",
       "       5.43678435, 6.02552314, 5.3781698 , 5.16844567, 6.19379419,\n",
       "       6.01092443, 6.17281739, 6.79619394, 5.620582  , 5.37351177,\n",
       "       7.03596193, 5.50759397, 5.27690521, 6.37972706, 5.33314132,\n",
       "       5.23868766, 6.51176342, 6.08332653, 5.18618108, 5.19855512,\n",
       "       6.47752309, 6.50990018, 5.75704107, 5.93041915, 5.7976781 ,\n",
       "       5.65669461, 5.70525824, 5.5109802 , 5.90045649, 6.25011232,\n",
       "       5.37160326, 6.00923584, 5.66363552, 5.18466568, 5.26574415,\n",
       "       5.37890097, 5.66789324, 5.87915304, 5.4608473 , 5.77134707,\n",
       "       6.05672421, 6.03348338, 5.19092627, 5.28278444, 5.93789786,\n",
       "       5.96721717, 5.7182561 , 5.94897174, 6.13978779, 6.03567695,\n",
       "       5.85615275, 5.72522454, 5.3733818 , 5.36981852, 6.70734444,\n",
       "       5.21992447, 5.62063303, 5.66763738, 5.27712164, 5.37145039,\n",
       "       5.80841582, 6.52460873, 5.30562021, 5.43458412, 6.25319753,\n",
       "       5.81540018, 5.6120122 , 5.97887242, 6.03333638, 5.9252795 ,\n",
       "       5.84733553, 5.81574449, 5.51866909, 5.67619713, 5.84397665,\n",
       "       5.38312808, 5.22851398, 5.2986176 , 6.10279986, 5.10210544,\n",
       "       5.68401371, 6.01965735, 6.01903805, 5.73413066, 5.95528708,\n",
       "       6.30829996, 6.78581982, 5.72173517, 5.91429271, 4.83330186,\n",
       "       5.52085721, 5.74733636, 6.66433286, 6.44385886, 6.49518019,\n",
       "       5.82545644, 5.14688358, 5.7330574 , 6.32995732, 6.16642993,\n",
       "       5.81842653, 5.29751479, 4.87401461, 5.94034149, 6.46973411,\n",
       "       6.09976734, 5.95733605, 5.25382088, 5.16746012, 5.80821683,\n",
       "       5.7335705 , 5.77603162, 6.12624906, 6.26821099, 5.24060603,\n",
       "       6.17383043, 5.81537993, 5.38004403, 6.17223009, 4.91530489,\n",
       "       6.15867789, 6.23671805, 6.25466649, 6.45452438, 6.55227298,\n",
       "       5.75833376, 6.84169537, 7.15949301, 6.20748515, 5.74334842,\n",
       "       6.13369295, 5.12527223, 5.88415154, 5.48252324, 4.90368806,\n",
       "       5.97019703, 5.10253763, 6.45645028, 5.39244656, 5.33062741,\n",
       "       5.61779515, 5.78473497, 5.57595414, 5.41340104, 5.70899844,\n",
       "       6.6935111 , 5.70229485, 5.70270526, 4.95470398, 5.29762222,\n",
       "       5.84172951, 5.92416923, 6.03076028, 6.08432753, 5.07467986,\n",
       "       5.41844981, 5.96228687, 5.66336866, 6.23224459, 5.82087503,\n",
       "       6.82894954, 5.61894135, 6.08232933, 5.71210644, 5.32998148,\n",
       "       5.548017  , 5.89000528, 5.68297098, 6.3762835 , 5.39917336,\n",
       "       5.95824242, 6.01723703, 5.56236698, 5.26327577, 6.40172814,\n",
       "       6.70970792, 5.89538848, 6.5368808 , 5.36059797, 6.84590807,\n",
       "       6.0610892 , 5.46685643, 6.5256655 , 5.67817357, 6.10118363,\n",
       "       5.26724376, 5.7531983 , 5.16708838, 6.02453409, 5.74353043,\n",
       "       6.72856918, 5.84368843, 6.85419847, 6.02061389, 6.05054389,\n",
       "       6.25745373, 5.84284798, 5.3733818 , 6.13077403, 5.90045649,\n",
       "       5.36287687, 5.8726472 , 5.53444272, 7.13608326, 5.272336  ,\n",
       "       6.46925538, 5.45792816, 7.07645162, 6.67422953, 5.92463778,\n",
       "       5.843075  , 5.45537302, 5.98012181, 4.96314131, 5.23414535,\n",
       "       5.65615714, 6.16835485, 6.59040439, 5.18018496, 6.42244574,\n",
       "       5.28991914, 6.40228263, 5.03162368, 5.47144097, 5.80058693,\n",
       "       5.99228806, 5.80132945, 5.86100437, 5.53319606, 5.42616987,\n",
       "       5.17394344, 6.56322458, 5.50652276, 5.77998365, 5.89895528,\n",
       "       5.85414207, 5.63834318, 5.95988573, 6.16857029, 5.37655114,\n",
       "       5.74936926, 6.307162  , 6.56813571, 5.00091484, 5.38684336,\n",
       "       6.27118659, 6.15674523, 5.24069548, 6.11191   , 6.60605424,\n",
       "       5.03552746, 6.61805045, 5.89240665, 6.03400801, 6.48881549,\n",
       "       5.88552279, 6.18651081, 5.45406327, 5.72528067, 5.94081039,\n",
       "       5.47574708, 6.06925615, 5.74003691, 5.28328298, 5.93789786,\n",
       "       6.33477346, 6.02148829, 6.24305948, 6.24921612, 5.00958684,\n",
       "       5.3182011 , 5.85433913, 5.63235001, 7.05609033, 6.6935111 ,\n",
       "       6.31790355, 5.55257885, 5.99566098, 5.1877809 , 5.05438783,\n",
       "       6.35109556, 6.5601428 , 6.63723087, 5.34425212, 5.47134836,\n",
       "       6.71897666, 6.06126562, 5.63851425, 7.21270125, 5.68759911,\n",
       "       6.57343377, 4.98586551, 5.61236696, 5.36357415, 5.91998538,\n",
       "       6.43122956, 5.39409018, 6.86334853, 6.03328717, 5.9857899 ,\n",
       "       6.21766166, 5.07341808, 5.91203919, 6.78223286, 6.2990091 ,\n",
       "       6.02852736, 5.40154082, 5.95099494, 5.03462131, 5.16056797,\n",
       "       5.82427826, 5.66284907, 4.91791165, 5.38598158, 6.54800636,\n",
       "       6.12566522, 5.99785366, 5.12527223, 5.38687356, 5.91022988,\n",
       "       6.11329577, 5.73226856, 6.24261883, 5.87616655, 7.39660607,\n",
       "       6.34876691, 4.852817  , 5.89244937, 6.5117483 , 6.19170226,\n",
       "       5.8777522 , 6.09473037, 6.20978746, 6.32794865, 6.48775796,\n",
       "       6.30802754, 6.11405152, 6.22768011, 5.51726885, 5.12698694,\n",
       "       6.25319753, 6.75308861, 5.18449785, 5.23321785, 5.39106907,\n",
       "       6.51222129, 5.46588942, 5.83008804, 5.76226524, 6.14144549,\n",
       "       5.59396452, 5.30280394, 5.28697095, 5.36740217, 5.48252324,\n",
       "       5.56996561, 5.27876772, 5.73226935, 5.87769794, 5.80394224,\n",
       "       6.14098652, 5.93522308, 6.32395792, 6.27604686, 6.0891841 ,\n",
       "       6.80961075, 6.40968254, 6.10735989, 6.14285992, 5.97135259,\n",
       "       5.9754694 , 5.97018556, 5.98538313, 5.40022564, 6.76223125,\n",
       "       6.01626445, 5.70528884, 6.90904835, 6.3340825 , 5.3333252 ,\n",
       "       5.89499213, 6.31992761, 5.88122762, 5.35036635, 7.01267622,\n",
       "       5.89803805, 5.99762344, 5.20143014, 5.7014975 , 5.79882692,\n",
       "       5.75688118, 5.43234701, 5.7837602 , 6.22197431, 5.47119877,\n",
       "       6.90904835, 6.46889991, 5.1028052 , 6.67159326, 6.31353756,\n",
       "       6.5503063 , 6.46602099, 6.4620352 , 5.85788297, 5.98036033,\n",
       "       6.48845538, 6.68124282, 6.06728406, 5.68838194, 5.33034489,\n",
       "       5.18517028, 5.86448382, 5.61723117, 6.27536225, 5.72677314,\n",
       "       6.7769093 , 6.44452334, 5.28292886, 6.11738283, 5.38684336,\n",
       "       6.70665488, 5.75914811, 5.63851425, 6.15407172, 5.24595772,\n",
       "       6.59967737, 6.93839847, 5.70655813, 5.9175718 , 5.2522224 ,\n",
       "       6.30255955, 5.8613761 , 5.40698749, 7.73793729, 5.89235016,\n",
       "       5.92296462, 5.98761456, 6.27760422, 5.64646312, 5.30830694,\n",
       "       6.1465015 , 6.93903626, 5.73883212, 4.93785527, 6.7921089 ,\n",
       "       6.35863965, 5.165988  , 5.16758091, 6.06333607, 6.86302066,\n",
       "       6.65004168, 6.04870469, 5.57943176, 5.80691767, 6.29582216,\n",
       "       5.2623668 , 6.73231888, 5.57370224, 6.21744317, 5.36215171,\n",
       "       5.50784461, 5.34080616, 6.85877126, 6.07899385, 6.03693451,\n",
       "       5.8569069 , 6.20881828, 5.69368261, 6.38807693, 6.24999434,\n",
       "       6.79676789, 6.91384553, 6.83494223, 6.29288844, 6.070546  ,\n",
       "       5.26140814, 6.45775472, 6.14173037, 6.4925173 , 5.47707909,\n",
       "       6.93682067, 6.54516285, 6.22643501, 5.32998148, 6.31657383,\n",
       "       6.28812723, 5.94737968, 5.48067825, 6.17223009, 5.72370434,\n",
       "       6.31906411, 5.92021633, 5.80242073, 6.20623532, 6.18027524,\n",
       "       5.2522224 , 6.98095779, 5.20067961, 6.49518019, 5.61645396,\n",
       "       5.29213103, 5.43044436, 5.58088147, 6.59824117, 6.51856873,\n",
       "       6.16198514, 5.32787293, 5.01093724, 6.25426096, 6.9200723 ,\n",
       "       5.93028474, 6.07631809, 6.59400655, 5.81047725, 6.20938104,\n",
       "       6.50566284, 6.64220824, 5.18517028, 4.97575538, 6.03327325,\n",
       "       5.53750405, 6.16198557, 6.00130094, 5.20606552, 6.2684465 ,\n",
       "       5.49338255, 6.5039139 , 5.76898083, 5.56252445, 6.39716924,\n",
       "       6.35999602, 5.97723936, 5.69302136, 5.71755786, 5.3855475 ,\n",
       "       6.18043342, 6.01545111, 6.90904835, 5.6627676 , 6.37032711,\n",
       "       5.81030251, 6.02852736, 6.48855661, 6.94553583, 6.07991741,\n",
       "       5.12512768, 6.92128056, 5.63671108, 5.66382399, 5.75914811,\n",
       "       5.42650624, 5.0011243 , 5.4637775 , 5.3981177 , 6.30683303,\n",
       "       6.52155976, 6.5200552 , 6.343331  , 5.23177903, 5.38173627,\n",
       "       5.0113935 , 6.9920758 , 5.94431622, 5.89856659, 4.99382613,\n",
       "       5.44089634, 5.36371202, 5.86704966, 5.31519646, 5.75488147,\n",
       "       5.47016867, 4.91531806, 4.80375372, 6.1312051 , 5.79473424,\n",
       "       5.944111  , 6.55029958, 6.64667637, 6.50402352, 5.36320641,\n",
       "       6.21808793, 5.86888614, 6.2969251 , 5.33824942, 6.70072283,\n",
       "       5.95547425, 5.34538523, 5.70586865, 5.44612925, 5.51215033,\n",
       "       5.12876739, 5.64922999, 5.31069148, 5.16226496, 6.3190843 ,\n",
       "       5.57016591, 5.90998328, 5.9175718 , 5.94330429, 5.53829528,\n",
       "       5.34078866, 7.1978196 , 6.27523984, 5.03785064, 5.84922307])"
      ]
     },
     "execution_count": 211,
     "metadata": {},
     "output_type": "execute_result"
    }
   ],
   "source": [
    "#Displaying the predicted values of test set\n",
    "test_predict"
   ]
  },
  {
   "cell_type": "code",
   "execution_count": 212,
   "metadata": {
    "scrolled": true
   },
   "outputs": [
    {
     "name": "stdout",
     "output_type": "stream",
     "text": [
      "Model Performance\n",
      "Average Error: 0.4610 .\n",
      "RMS: 0.6127 .\n",
      "Accuracy = 91.94%.\n",
      "RMSE:  . 0.6126791533374826\n"
     ]
    }
   ],
   "source": [
    "#Calculating the error and accuracy\n",
    "test_accuracy = evaluate(best_grid, X_test, y_test)\n",
    "rm_rf = sqrt(mean_squared_error(test_predict,y_test))\n",
    "print('RMSE:  .',rm_rf)"
   ]
  },
  {
   "cell_type": "markdown",
   "metadata": {},
   "source": [
    "<b>OBSERVATION:</b>\n",
    "\n",
    "From the above values, we can observed that we are getting 91.90% accuracy of our test data and error is 0.4635. \n",
    "These values are much better in this model as comapred to previous models.\n"
   ]
  },
  {
   "cell_type": "markdown",
   "metadata": {},
   "source": [
    "<b>PERFORMANCE:</b>\n",
    "    \n",
    "From analysing all the outputs from the above used model, we can conclude that Random Forest proved to be the best model giving 91.90% accuracy for the test case. It also includes the proper hypertuning of the parameters as comapred to other models.\n",
    "Working of all the models are discussed above and from all these working Random Forest appears to be the better options among all models discussed in this assignment."
   ]
  }
 ],
 "metadata": {
  "kernelspec": {
   "display_name": "Python 3",
   "language": "python",
   "name": "python3"
  },
  "language_info": {
   "codemirror_mode": {
    "name": "ipython",
    "version": 3
   },
   "file_extension": ".py",
   "mimetype": "text/x-python",
   "name": "python",
   "nbconvert_exporter": "python",
   "pygments_lexer": "ipython3",
   "version": "3.7.3"
  }
 },
 "nbformat": 4,
 "nbformat_minor": 2
}
